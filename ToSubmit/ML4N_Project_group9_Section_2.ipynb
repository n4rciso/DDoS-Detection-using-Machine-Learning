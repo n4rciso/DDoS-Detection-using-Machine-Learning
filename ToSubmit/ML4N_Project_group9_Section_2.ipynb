{
 "cells": [
  {
   "cell_type": "markdown",
   "id": "b8aedfa4-9848-45c5-9f83-e54d130dee42",
   "metadata": {
    "tags": []
   },
   "source": [
    "# Machine Learning for Networking - Group Project 5 - DDoS attacks detection and characterization - Section 2\n",
    "\n",
    "# Preliminary operations "
   ]
  },
  {
   "cell_type": "markdown",
   "id": "471bca75-c67a-4c71-bfa9-5c970b42f237",
   "metadata": {
    "tags": []
   },
   "source": [
    "## Import needed libraries"
   ]
  },
  {
   "cell_type": "code",
   "execution_count": 1,
   "id": "ccf76889-be90-4f81-bce0-e40ba23793db",
   "metadata": {
    "ExecuteTime": {
     "end_time": "2024-03-14T09:49:51.196333600Z",
     "start_time": "2024-03-14T09:49:50.923375300Z"
    },
    "tags": []
   },
   "outputs": [
    {
     "ename": "ModuleNotFoundError",
     "evalue": "No module named 'matplotlib'",
     "output_type": "error",
     "traceback": [
      "\u001b[0;31m---------------------------------------------------------------------------\u001b[0m",
      "\u001b[0;31mModuleNotFoundError\u001b[0m                       Traceback (most recent call last)",
      "Cell \u001b[0;32mIn[1], line 3\u001b[0m\n\u001b[1;32m      1\u001b[0m \u001b[38;5;66;03m# import needed python libraries\u001b[39;00m\n\u001b[0;32m----> 3\u001b[0m \u001b[43mget_ipython\u001b[49m\u001b[43m(\u001b[49m\u001b[43m)\u001b[49m\u001b[38;5;241;43m.\u001b[39;49m\u001b[43mrun_line_magic\u001b[49m\u001b[43m(\u001b[49m\u001b[38;5;124;43m'\u001b[39;49m\u001b[38;5;124;43mmatplotlib\u001b[39;49m\u001b[38;5;124;43m'\u001b[39;49m\u001b[43m,\u001b[49m\u001b[43m \u001b[49m\u001b[38;5;124;43m'\u001b[39;49m\u001b[38;5;124;43minline\u001b[39;49m\u001b[38;5;124;43m'\u001b[39;49m\u001b[43m)\u001b[49m\n\u001b[1;32m      5\u001b[0m \u001b[38;5;28;01mfrom\u001b[39;00m \u001b[38;5;21;01mitertools\u001b[39;00m \u001b[38;5;28;01mimport\u001b[39;00m product\n\u001b[1;32m      7\u001b[0m \u001b[38;5;28;01mimport\u001b[39;00m \u001b[38;5;21;01mmatplotlib\u001b[39;00m\u001b[38;5;21;01m.\u001b[39;00m\u001b[38;5;21;01mpyplot\u001b[39;00m \u001b[38;5;28;01mas\u001b[39;00m \u001b[38;5;21;01mplt\u001b[39;00m\n",
      "File \u001b[0;32m~/.local/lib/python3.10/site-packages/IPython/core/interactiveshell.py:2480\u001b[0m, in \u001b[0;36mInteractiveShell.run_line_magic\u001b[0;34m(self, magic_name, line, _stack_depth)\u001b[0m\n\u001b[1;32m   2478\u001b[0m     kwargs[\u001b[38;5;124m'\u001b[39m\u001b[38;5;124mlocal_ns\u001b[39m\u001b[38;5;124m'\u001b[39m] \u001b[38;5;241m=\u001b[39m \u001b[38;5;28mself\u001b[39m\u001b[38;5;241m.\u001b[39mget_local_scope(stack_depth)\n\u001b[1;32m   2479\u001b[0m \u001b[38;5;28;01mwith\u001b[39;00m \u001b[38;5;28mself\u001b[39m\u001b[38;5;241m.\u001b[39mbuiltin_trap:\n\u001b[0;32m-> 2480\u001b[0m     result \u001b[38;5;241m=\u001b[39m \u001b[43mfn\u001b[49m\u001b[43m(\u001b[49m\u001b[38;5;241;43m*\u001b[39;49m\u001b[43margs\u001b[49m\u001b[43m,\u001b[49m\u001b[43m \u001b[49m\u001b[38;5;241;43m*\u001b[39;49m\u001b[38;5;241;43m*\u001b[39;49m\u001b[43mkwargs\u001b[49m\u001b[43m)\u001b[49m\n\u001b[1;32m   2482\u001b[0m \u001b[38;5;66;03m# The code below prevents the output from being displayed\u001b[39;00m\n\u001b[1;32m   2483\u001b[0m \u001b[38;5;66;03m# when using magics with decorator @output_can_be_silenced\u001b[39;00m\n\u001b[1;32m   2484\u001b[0m \u001b[38;5;66;03m# when the last Python token in the expression is a ';'.\u001b[39;00m\n\u001b[1;32m   2485\u001b[0m \u001b[38;5;28;01mif\u001b[39;00m \u001b[38;5;28mgetattr\u001b[39m(fn, magic\u001b[38;5;241m.\u001b[39mMAGIC_OUTPUT_CAN_BE_SILENCED, \u001b[38;5;28;01mFalse\u001b[39;00m):\n",
      "File \u001b[0;32m~/.local/lib/python3.10/site-packages/IPython/core/magics/pylab.py:103\u001b[0m, in \u001b[0;36mPylabMagics.matplotlib\u001b[0;34m(self, line)\u001b[0m\n\u001b[1;32m     98\u001b[0m     \u001b[38;5;28mprint\u001b[39m(\n\u001b[1;32m     99\u001b[0m         \u001b[38;5;124m\"\u001b[39m\u001b[38;5;124mAvailable matplotlib backends: \u001b[39m\u001b[38;5;132;01m%s\u001b[39;00m\u001b[38;5;124m\"\u001b[39m\n\u001b[1;32m    100\u001b[0m         \u001b[38;5;241m%\u001b[39m _list_matplotlib_backends_and_gui_loops()\n\u001b[1;32m    101\u001b[0m     )\n\u001b[1;32m    102\u001b[0m \u001b[38;5;28;01melse\u001b[39;00m:\n\u001b[0;32m--> 103\u001b[0m     gui, backend \u001b[38;5;241m=\u001b[39m \u001b[38;5;28;43mself\u001b[39;49m\u001b[38;5;241;43m.\u001b[39;49m\u001b[43mshell\u001b[49m\u001b[38;5;241;43m.\u001b[39;49m\u001b[43menable_matplotlib\u001b[49m\u001b[43m(\u001b[49m\u001b[43margs\u001b[49m\u001b[38;5;241;43m.\u001b[39;49m\u001b[43mgui\u001b[49m\u001b[38;5;241;43m.\u001b[39;49m\u001b[43mlower\u001b[49m\u001b[43m(\u001b[49m\u001b[43m)\u001b[49m\u001b[43m \u001b[49m\u001b[38;5;28;43;01mif\u001b[39;49;00m\u001b[43m \u001b[49m\u001b[38;5;28;43misinstance\u001b[39;49m\u001b[43m(\u001b[49m\u001b[43margs\u001b[49m\u001b[38;5;241;43m.\u001b[39;49m\u001b[43mgui\u001b[49m\u001b[43m,\u001b[49m\u001b[43m \u001b[49m\u001b[38;5;28;43mstr\u001b[39;49m\u001b[43m)\u001b[49m\u001b[43m \u001b[49m\u001b[38;5;28;43;01melse\u001b[39;49;00m\u001b[43m \u001b[49m\u001b[43margs\u001b[49m\u001b[38;5;241;43m.\u001b[39;49m\u001b[43mgui\u001b[49m\u001b[43m)\u001b[49m\n\u001b[1;32m    104\u001b[0m     \u001b[38;5;28mself\u001b[39m\u001b[38;5;241m.\u001b[39m_show_matplotlib_backend(args\u001b[38;5;241m.\u001b[39mgui, backend)\n",
      "File \u001b[0;32m~/.local/lib/python3.10/site-packages/IPython/core/interactiveshell.py:3665\u001b[0m, in \u001b[0;36mInteractiveShell.enable_matplotlib\u001b[0;34m(self, gui)\u001b[0m\n\u001b[1;32m   3662\u001b[0m     \u001b[38;5;28;01mimport\u001b[39;00m \u001b[38;5;21;01mmatplotlib_inline\u001b[39;00m\u001b[38;5;21;01m.\u001b[39;00m\u001b[38;5;21;01mbackend_inline\u001b[39;00m\n\u001b[1;32m   3664\u001b[0m \u001b[38;5;28;01mfrom\u001b[39;00m \u001b[38;5;21;01mIPython\u001b[39;00m\u001b[38;5;21;01m.\u001b[39;00m\u001b[38;5;21;01mcore\u001b[39;00m \u001b[38;5;28;01mimport\u001b[39;00m pylabtools \u001b[38;5;28;01mas\u001b[39;00m pt\n\u001b[0;32m-> 3665\u001b[0m gui, backend \u001b[38;5;241m=\u001b[39m \u001b[43mpt\u001b[49m\u001b[38;5;241;43m.\u001b[39;49m\u001b[43mfind_gui_and_backend\u001b[49m\u001b[43m(\u001b[49m\u001b[43mgui\u001b[49m\u001b[43m,\u001b[49m\u001b[43m \u001b[49m\u001b[38;5;28;43mself\u001b[39;49m\u001b[38;5;241;43m.\u001b[39;49m\u001b[43mpylab_gui_select\u001b[49m\u001b[43m)\u001b[49m\n\u001b[1;32m   3667\u001b[0m \u001b[38;5;28;01mif\u001b[39;00m gui \u001b[38;5;241m!=\u001b[39m \u001b[38;5;28;01mNone\u001b[39;00m:\n\u001b[1;32m   3668\u001b[0m     \u001b[38;5;66;03m# If we have our first gui selection, store it\u001b[39;00m\n\u001b[1;32m   3669\u001b[0m     \u001b[38;5;28;01mif\u001b[39;00m \u001b[38;5;28mself\u001b[39m\u001b[38;5;241m.\u001b[39mpylab_gui_select \u001b[38;5;129;01mis\u001b[39;00m \u001b[38;5;28;01mNone\u001b[39;00m:\n",
      "File \u001b[0;32m~/.local/lib/python3.10/site-packages/IPython/core/pylabtools.py:338\u001b[0m, in \u001b[0;36mfind_gui_and_backend\u001b[0;34m(gui, gui_select)\u001b[0m\n\u001b[1;32m    321\u001b[0m \u001b[38;5;28;01mdef\u001b[39;00m \u001b[38;5;21mfind_gui_and_backend\u001b[39m(gui\u001b[38;5;241m=\u001b[39m\u001b[38;5;28;01mNone\u001b[39;00m, gui_select\u001b[38;5;241m=\u001b[39m\u001b[38;5;28;01mNone\u001b[39;00m):\n\u001b[1;32m    322\u001b[0m     \u001b[38;5;124;03m\"\"\"Given a gui string return the gui and mpl backend.\u001b[39;00m\n\u001b[1;32m    323\u001b[0m \n\u001b[1;32m    324\u001b[0m \u001b[38;5;124;03m    Parameters\u001b[39;00m\n\u001b[0;32m   (...)\u001b[0m\n\u001b[1;32m    335\u001b[0m \u001b[38;5;124;03m    'WXAgg','Qt4Agg','module://matplotlib_inline.backend_inline','agg').\u001b[39;00m\n\u001b[1;32m    336\u001b[0m \u001b[38;5;124;03m    \"\"\"\u001b[39;00m\n\u001b[0;32m--> 338\u001b[0m     \u001b[38;5;28;01mimport\u001b[39;00m \u001b[38;5;21;01mmatplotlib\u001b[39;00m\n\u001b[1;32m    340\u001b[0m     \u001b[38;5;28;01mif\u001b[39;00m _matplotlib_manages_backends():\n\u001b[1;32m    341\u001b[0m         backend_registry \u001b[38;5;241m=\u001b[39m matplotlib\u001b[38;5;241m.\u001b[39mbackends\u001b[38;5;241m.\u001b[39mregistry\u001b[38;5;241m.\u001b[39mbackend_registry\n",
      "\u001b[0;31mModuleNotFoundError\u001b[0m: No module named 'matplotlib'"
     ]
    }
   ],
   "source": [
    "# import needed python libraries\n",
    "\n",
    "%matplotlib inline\n",
    "\n",
    "from itertools import product\n",
    "\n",
    "import matplotlib.pyplot as plt\n",
    "import numpy as np\n",
    "import pandas as pd\n",
    "import seaborn as sns\n",
    "from sklearn.decomposition import PCA\n",
    "from sklearn.ensemble import RandomForestClassifier\n",
    "from sklearn.svm import SVC\n",
    "from sklearn.metrics import classification_report, accuracy_score, confusion_matrix\n",
    "from sklearn.model_selection import GridSearchCV\n",
    "from sklearn.model_selection import StratifiedKFold, RandomizedSearchCV\n",
    "from sklearn.model_selection import train_test_split\n",
    "from sklearn.preprocessing import StandardScaler\n",
    "from sklearn.tree import DecisionTreeClassifier\n"
   ]
  },
  {
   "cell_type": "markdown",
   "id": "ce6150330250efb3",
   "metadata": {},
   "source": [
    "## Data preparation & standardization"
   ]
  },
  {
   "cell_type": "code",
   "execution_count": null,
   "id": "236ba2a7-8ea5-4138-95c5-719e7014cc3f",
   "metadata": {
    "ExecuteTime": {
     "end_time": "2024-03-14T09:49:52.079544800Z",
     "start_time": "2024-03-14T09:49:51.160328300Z"
    }
   },
   "outputs": [],
   "source": [
    "columns_to_remove = ['Active Mean', 'Active Std', 'Average Packet Size', 'Avg Bwd Segment Size', 'Avg Fwd Segment Size',\n",
    "                     'Bwd IAT Max', 'Bwd IAT Mean', 'Bwd IAT Std', 'Bwd Packet Length Mean', 'Bwd Packet Length Std',\n",
    "                     'Flow Duration', 'Flow IAT Max', 'Flow IAT Mean', 'Flow IAT Min', 'Flow IAT Std', 'Flow Packets/s',\n",
    "                     'Fwd Header Length', 'Fwd IAT Max', 'Fwd IAT Mean', 'Fwd IAT Std', 'Fwd IAT Total',\n",
    "                     'Fwd PSH Flags', 'Fwd Packet Length Mean', 'Fwd Packet Length Min', 'Idle Max', 'Idle Mean',\n",
    "                     'Min Packet Length', 'Packet Length Mean', 'Packet Length Std', 'Packet Length Variance',\n",
    "                     'Protocol', 'Subflow Bwd Bytes', 'Subflow Bwd Packets', 'Subflow Fwd Bytes', 'Subflow Fwd Packets',\n",
    "                     'Total Backward Packets', 'Total Length of Bwd Packets', 'Total Length of Fwd Packets']\n",
    "ddos_data = pd.read_csv(\"ddos_dataset.csv\", sep=\",\")\n",
    "ddos_data.rename(columns=lambda x: x.strip(), inplace=True)\n",
    "ddos_data['SimillarHTTP'] = ddos_data['SimillarHTTP'].apply(lambda x: str(x) if x == 0 else x)\n",
    "ddos_data['SimillarHTTP'] = ddos_data['SimillarHTTP'].str.strip().fillna(0)\n",
    "ddos_data = ddos_data.drop(columns=columns_to_remove, errors='ignore')"
   ]
  },
  {
   "cell_type": "markdown",
   "id": "03b2e42d-521d-4e47-b38d-3a6bec14d1ff",
   "metadata": {
    "tags": []
   },
   "source": [
    "# 1. Perform a split to segment the dataset into training and test dataset, in a stratified way with respect to the labels"
   ]
  },
  {
   "cell_type": "code",
   "execution_count": null,
   "id": "53da8727-5249-4dce-b28d-bdf45a434785",
   "metadata": {
    "ExecuteTime": {
     "end_time": "2024-03-14T09:49:53.426017100Z",
     "start_time": "2024-03-14T09:49:52.082968800Z"
    },
    "tags": []
   },
   "outputs": [],
   "source": [
    "# Prepare the dataset extracting Features (X) and Labels (Y) \n",
    "# Stratify the dataset by having 70% of the data in the traning set and 30% in the test set\n",
    "ddos_data_copy = ddos_data.copy()\n",
    "\n",
    "ddos_data_copy['label'] = pd.Categorical(ddos_data_copy['label']).codes  # transform to numerical labels\n",
    "ddos_data_copy.drop(columns=[\"Unnamed: 0\", \"Flow ID\", \"Destination IP\", \"Source IP\", \"Timestamp\", \"SimillarHTTP\"],\n",
    "                    axis=1, inplace=True)\n",
    "\n",
    "x = ddos_data_copy.drop(columns=['label'])\n",
    "y = ddos_data_copy[['label']]\n",
    "\n",
    "# Run stratified training-test splitting\n",
    "x_train, x_test, y_train, y_test = train_test_split(x, y, stratify=y, train_size=0.7, random_state=15)\n",
    "\n",
    "# This line is used to flatten the labels (which might be in a two-dimensional array) into one-dimensional arrays. \n",
    "# This is often necessary for compatibility with certain machine learning algorithms that expect 1D arrays for labels.\n",
    "\n",
    "y_train, y_test = np.ravel(y_train), np.ravel(y_test)\n",
    "\n",
    "# Standardize data\n",
    "scaler = StandardScaler()\n",
    "scaler.fit(x_train)\n",
    "x_train_s, x_test_s = scaler.transform(x_train), scaler.transform(x_test)\n",
    "\n",
    "#PCA\n",
    "pca = PCA(n_components=0.95)  # Adjust n_components as needed\n",
    "x_train_s = pca.fit_transform(x_train_s)\n",
    "x_test_s = pca.transform(x_test_s)"
   ]
  },
  {
   "cell_type": "code",
   "execution_count": null,
   "id": "251ea2ad-1bdd-424a-b4bb-696c7a065917",
   "metadata": {
    "ExecuteTime": {
     "end_time": "2024-03-14T09:49:53.441110200Z",
     "start_time": "2024-03-14T09:49:53.426017100Z"
    }
   },
   "outputs": [],
   "source": [
    "x"
   ]
  },
  {
   "cell_type": "markdown",
   "id": "bf17d3ed-813a-4f42-be29-7778e261dc07",
   "metadata": {},
   "source": [
    "# 2. Choose at least 3 ML methods, and perform the model training, with default parameter configuration, evaluating the performance on both training and test set. Output the confusion matrix and classification report. Do you observe overfitting or under-fitting? "
   ]
  },
  {
   "cell_type": "markdown",
   "id": "ea209c2199952529",
   "metadata": {},
   "source": [
    "## 2 Models Training"
   ]
  },
  {
   "cell_type": "code",
   "execution_count": null,
   "id": "1dfed97b-a422-4e19-a96e-c5140979c2de",
   "metadata": {
    "ExecuteTime": {
     "end_time": "2024-03-14T09:53:04.538499900Z",
     "start_time": "2024-03-14T09:49:53.440102300Z"
    }
   },
   "outputs": [],
   "source": [
    "# Initialize the models with default parameters\n",
    "decision_tree = DecisionTreeClassifier(random_state=42)\n",
    "random_forest = RandomForestClassifier(random_state=42)\n",
    "svm_classifier = SVC(random_state=42)\n",
    "\n",
    "# Train the models on the training data\n",
    "decision_tree.fit(x_train_s, y_train)\n",
    "random_forest.fit(x_train_s, y_train)\n",
    "svm_classifier.fit(x_train_s, y_train)\n",
    "\n",
    "# Evaluate the models on the training set\n",
    "y_train_pred_dt = decision_tree.predict(x_train_s)\n",
    "y_train_pred_rf = random_forest.predict(x_train_s)\n",
    "y_train_pred_svm = svm_classifier.predict(x_train_s)\n",
    "\n",
    "# Evaluate the models on the test set\n",
    "y_test_pred_dt = decision_tree.predict(x_test_s)\n",
    "y_test_pred_rf = random_forest.predict(x_test_s)\n",
    "y_test_pred_svm = svm_classifier.predict(x_test_s)\n"
   ]
  },
  {
   "cell_type": "markdown",
   "id": "d1846b8613d163f8",
   "metadata": {},
   "source": [
    "## 2 Output the confusion matrix and classification report"
   ]
  },
  {
   "cell_type": "code",
   "execution_count": null,
   "id": "e1d183e9-c50c-48be-82fb-1750814bbd14",
   "metadata": {
    "ExecuteTime": {
     "end_time": "2024-03-14T09:53:09.321879800Z",
     "start_time": "2024-03-14T09:53:04.536010800Z"
    },
    "tags": []
   },
   "outputs": [],
   "source": [
    "def plot_confusion_matrix_and_report(y_true, y_pred, model_name, dataset_type):\n",
    "    plt.figure(figsize=(7, 6))\n",
    "    sns.heatmap(confusion_matrix(y_true, y_pred), cmap='Blues', annot=True, cbar_kws={'label': 'Occurrences'}, fmt='d')\n",
    "    plt.xlabel('Prediction')\n",
    "    plt.ylabel('True')\n",
    "    plt.title(f'{model_name} - {dataset_type} - Confusion matrix')\n",
    "    plt.show()\n",
    "    print(classification_report(y_true, y_pred))\n",
    "\n",
    "\n",
    "plot_confusion_matrix_and_report(y_train, y_train_pred_dt, 'Decision Tree', 'Training Set')\n",
    "plot_confusion_matrix_and_report(y_train, y_train_pred_rf, 'Random Forest', 'Training Set')\n",
    "plot_confusion_matrix_and_report(y_train, y_train_pred_svm, 'SVM', 'Training Set')\n",
    "plot_confusion_matrix_and_report(y_test, y_test_pred_dt, 'Decision Tree', 'Test Set')\n",
    "plot_confusion_matrix_and_report(y_test, y_test_pred_rf, 'Random Forest', 'Test Set')\n",
    "plot_confusion_matrix_and_report(y_test, y_test_pred_svm, 'SVM', 'Test Set')"
   ]
  },
  {
   "cell_type": "markdown",
   "id": "d0e0884a7c0e923c",
   "metadata": {},
   "source": [
    "There is overfitting in the training set."
   ]
  },
  {
   "cell_type": "markdown",
   "id": "b1f1c80a-38e2-47e6-ba7b-42eb8052b3b9",
   "metadata": {},
   "source": [
    "# 3. Tune the hyper-parameters of the models through cross-validation. How do performance vary? Which model generates the best performance?"
   ]
  },
  {
   "cell_type": "markdown",
   "id": "e070f2ef4b88b6a4",
   "metadata": {},
   "source": [
    "## Data preparation"
   ]
  },
  {
   "cell_type": "code",
   "execution_count": null,
   "id": "ad8bff9152bb6c7e",
   "metadata": {
    "ExecuteTime": {
     "end_time": "2024-03-14T09:53:09.930330Z",
     "start_time": "2024-03-14T09:53:09.331887Z"
    },
    "collapsed": false,
    "jupyter": {
     "outputs_hidden": false
    }
   },
   "outputs": [],
   "source": [
    "x_train_htuning, x_val_htuning, y_train_htuning, y_val_htuning = train_test_split(x, y, stratify=y, train_size=5 / 7,\n",
    "                                                                                  random_state=42)\n",
    "\n",
    "# Standardize data and PCA\n",
    "scaler_h = StandardScaler()\n",
    "x_train_htuning_s = scaler_h.fit_transform(x_train_htuning)\n",
    "pca = PCA(n_components=0.95)  # Adjust n_components as needed\n",
    "x_train_htuning_s = pca.fit_transform(x_train_htuning_s)\n",
    "x_val_htuning_s = pca.transform(scaler_h.transform(x_val_htuning))\n",
    "\n",
    "y_train_htuning, y_val_htuning = np.ravel(y_train_htuning), np.ravel(y_val_htuning)"
   ]
  },
  {
   "cell_type": "code",
   "execution_count": null,
   "id": "aa5c4ba9-27e5-4328-839a-c1c6ea417674",
   "metadata": {
    "ExecuteTime": {
     "end_time": "2024-03-14T09:53:10.020983600Z",
     "start_time": "2024-03-14T09:53:10.014875900Z"
    }
   },
   "outputs": [],
   "source": [
    "def randomized_search(model, param_dist, n_iter=50):  # Reduced n_iter\n",
    "    print(\"Randomized Search for model:\", model.__class__.__name__)\n",
    "    randomized_search = RandomizedSearchCV(estimator=model, param_distributions=param_dist, n_iter=n_iter, cv=2,\n",
    "                                           # Reduced CV splits\n",
    "                                           n_jobs=4, verbose=2, random_state=42,\n",
    "                                           pre_dispatch='2*n_jobs')  # Adjusted n_jobs\n",
    "    randomized_search.fit(x_train_htuning_s, y_train_htuning)\n",
    "    best_model = randomized_search.best_estimator_\n",
    "    accuracy = best_model.score(x_val_htuning_s, y_val_htuning)\n",
    "    best_params = randomized_search.best_params_  # Get the best found parameters\n",
    "    return best_model, accuracy, best_params"
   ]
  },
  {
   "cell_type": "code",
   "execution_count": null,
   "id": "c1b92b4c-b70e-4996-9fb9-7237ced11443",
   "metadata": {
    "ExecuteTime": {
     "end_time": "2024-03-14T09:53:10.117810700Z",
     "start_time": "2024-03-14T09:53:10.108337900Z"
    }
   },
   "outputs": [],
   "source": [
    "# Pre-compiled model objects\n",
    "dt_clf = DecisionTreeClassifier(random_state=42)\n",
    "rf_clf = RandomForestClassifier(random_state=42)\n",
    "svm_clf = SVC(random_state=42)\n",
    "\n",
    "# Efficient Cross-Validation Strategy\n",
    "stratified_kfold = StratifiedKFold(n_splits=3, shuffle=True, random_state=42)"
   ]
  },
  {
   "cell_type": "code",
   "execution_count": null,
   "id": "3ec5438c-f678-4f6e-a097-5e8f828e44f1",
   "metadata": {
    "ExecuteTime": {
     "end_time": "2024-03-14T09:53:10.173922600Z",
     "start_time": "2024-03-14T09:53:10.119805900Z"
    }
   },
   "outputs": [],
   "source": [
    "# Decision Tree hyperparameters\n",
    "dt_params = {\n",
    "    'max_depth': [None, 10, 20, 30],\n",
    "    'min_samples_split': [2, 5, 10],\n",
    "    'min_samples_leaf': [1, 2, 4],\n",
    "    'criterion': ['gini', 'entropy']\n",
    "}\n",
    "\n",
    "# Random Forest hyperparameters\n",
    "rf_params = {\n",
    "    'n_estimators': [10, 50, 100],\n",
    "    'max_depth': [None, 10, 20, 30],\n",
    "    'min_samples_split': [2, 5, 10],\n",
    "    'min_samples_leaf': [1, 2, 4]\n",
    "}\n",
    "\n",
    "svm_params = {\n",
    "    'C': [0.01, 0.1, 1, 10, 100],\n",
    "    'gamma': ['scale', 'auto', 0.01, 0.1, 1],\n",
    "    'kernel': ['linear', 'rbf']\n",
    "}"
   ]
  },
  {
   "cell_type": "code",
   "execution_count": null,
   "id": "eb0c7c31c731e4f3",
   "metadata": {
    "ExecuteTime": {
     "end_time": "2024-03-14T10:11:45.308137200Z",
     "start_time": "2024-03-14T09:53:10.156348200Z"
    },
    "collapsed": false,
    "jupyter": {
     "outputs_hidden": false
    }
   },
   "outputs": [],
   "source": [
    "svm_model, svm_accuracy, svm_best_params = randomized_search(svm_clf, svm_params)"
   ]
  },
  {
   "cell_type": "code",
   "execution_count": null,
   "id": "99d0f2877f2401b3",
   "metadata": {
    "ExecuteTime": {
     "end_time": "2024-03-14T10:12:18.120667100Z",
     "start_time": "2024-03-14T10:11:45.311144800Z"
    },
    "collapsed": false,
    "jupyter": {
     "outputs_hidden": false
    }
   },
   "outputs": [],
   "source": [
    "dt_model, dt_accuracy, dt_best_params = randomized_search(dt_clf, dt_params)"
   ]
  },
  {
   "cell_type": "code",
   "execution_count": null,
   "id": "66ac1080cedb7a98",
   "metadata": {
    "ExecuteTime": {
     "end_time": "2024-03-14T10:14:57.207519100Z",
     "start_time": "2024-03-14T10:12:18.133930500Z"
    },
    "collapsed": false,
    "jupyter": {
     "outputs_hidden": false
    }
   },
   "outputs": [],
   "source": [
    "rf_model, rf_accuracy, rf_best_params = randomized_search(rf_clf, rf_params)"
   ]
  },
  {
   "cell_type": "code",
   "execution_count": null,
   "id": "8a897b00-8082-49f6-96cb-d77f72ab0fed",
   "metadata": {
    "ExecuteTime": {
     "end_time": "2024-03-14T10:14:57.214557700Z",
     "start_time": "2024-03-14T10:14:57.210237200Z"
    },
    "collapsed": false,
    "jupyter": {
     "outputs_hidden": false
    }
   },
   "outputs": [],
   "source": [
    "# Print the best models. their accuracies and Hyperparameters\n",
    "print(f\"Decision Tree accuracy: {dt_accuracy}\")\n",
    "print(f\"Random Forest accuracy: {rf_accuracy}\")\n",
    "print(f\"SVM accuracy: {svm_accuracy}\")\n",
    "\n",
    "print(\"Random Forest Best Parameters:\", rf_best_params)\n",
    "print(\"Decision Tree Best Parameters:\", dt_best_params)\n",
    "print(\"SVM Best Parameters:\", svm_best_params)\n",
    "\n",
    "\n",
    "# Determine the best overall model\n",
    "best_accuracy = max(dt_accuracy, rf_accuracy, svm_accuracy)\n",
    "\n",
    "if best_accuracy == dt_accuracy:\n",
    "    best_model = dt_clf\n",
    "    best_params = dt_best_params\n",
    "elif best_accuracy == rf_accuracy:\n",
    "    best_model = rf_clf\n",
    "    best_params = rf_best_params\n",
    "else:\n",
    "    best_model = svm_clf\n",
    "    best_params = svm_best_params\n",
    "\n",
    "print(f\"Best model: {best_model.__class__.__name__} with accuracy {best_accuracy} and Hyperparameters {best_params}\")"
   ]
  },
  {
   "cell_type": "markdown",
   "id": "f5d33d04c2501f2b",
   "metadata": {
    "tags": []
   },
   "source": [
    "# 4. Investigate the False Positive and False Negative. Can you draw considerations about the misclassification in terms of features? Report your analysis and findings for the ones you consider the most notable samples. "
   ]
  },
  {
   "cell_type": "markdown",
   "id": "fa421074-8c19-48d4-8270-f1b53eedbedd",
   "metadata": {},
   "source": [
    "Ciò che bisogna fare qua è: dati i modelli precedenti, allora aggiungere una colonna al df con la predicted label e poi creare due subset. Poi fare opportune considerazioni."
   ]
  },
  {
   "cell_type": "code",
   "execution_count": null,
   "id": "2a3288ff-9002-43d8-82d5-9afc17620f99",
   "metadata": {
    "ExecuteTime": {
     "end_time": "2024-03-14T10:15:20.943302400Z",
     "start_time": "2024-03-14T10:14:57.213475200Z"
    }
   },
   "outputs": [],
   "source": [
    "best_model.set_params(**best_params)\n",
    "best_model.fit(x_train_s, y_train)\n",
    "predicted_classes = best_model.predict(x_train_s)\n",
    "df_withPred = x_train.copy()\n",
    "# Adding the predicted classes to the DataFrame\n",
    "df_withPred['Predicted Class'] = predicted_classes # There is a difference in the nr of the lines.\n",
    "df_withPred['Real Class'] = y_train"
   ]
  },
  {
   "cell_type": "code",
   "execution_count": null,
   "id": "647b0e70-c5dd-4203-86bd-961074e8d364",
   "metadata": {
    "ExecuteTime": {
     "end_time": "2024-03-14T10:15:20.955946100Z",
     "start_time": "2024-03-14T10:15:20.949939400Z"
    }
   },
   "outputs": [],
   "source": [
    "df_withPred['misclassified'] = df_withPred['Predicted Class'] != df_withPred['Real Class']"
   ]
  },
  {
   "cell_type": "code",
   "execution_count": null,
   "id": "af54c288-6813-4655-a04e-f3b7bf0f27c8",
   "metadata": {
    "ExecuteTime": {
     "end_time": "2024-03-14T10:48:39.270256400Z",
     "start_time": "2024-03-14T10:48:38.662691600Z"
    }
   },
   "outputs": [],
   "source": [
    "df_withPred.to_csv(\"./pred_Section2_Output.csv\", index=False)"
   ]
  },
  {
   "cell_type": "code",
   "execution_count": null,
   "id": "05d16af8-1777-4ae6-8145-254e3fa9dddc",
   "metadata": {
    "ExecuteTime": {
     "end_time": "2024-03-14T10:15:21.043085Z",
     "start_time": "2024-03-14T10:15:21.040639200Z"
    }
   },
   "outputs": [],
   "source": [
    "value_counts = df_withPred['misclassified'].value_counts()\n",
    "value_counts"
   ]
  },
  {
   "cell_type": "code",
   "execution_count": null,
   "id": "ee6e27c0-b80c-49f2-9856-099efb5e943d",
   "metadata": {
    "ExecuteTime": {
     "end_time": "2024-03-14T10:47:39.149976400Z",
     "start_time": "2024-03-14T10:47:37.751138400Z"
    }
   },
   "outputs": [],
   "source": [
    "# Set the style of the visualizations\n",
    "sns.set_style(\"whitegrid\")\n",
    "\n",
    "# Prepare data for plotting: Compare distributions of 'Fwd Packet Length Max' for misclassified vs correctly classified samples\n",
    "correctly_classified_df = df_withPred[df_withPred['misclassified'] == False]\n",
    "misclassified_fwd_pkt_len_max = df_withPred['Fwd Packet Length Max']\n",
    "correctly_classified_fwd_pkt_len_max = correctly_classified_df['Fwd Packet Length Max']\n",
    "\n",
    "# Plot distributions\n",
    "plt.figure(figsize=(12, 6))\n",
    "sns.histplot(correctly_classified_fwd_pkt_len_max, color=\"green\", label=\"Correctly Classified\", kde=True, stat=\"density\", bins=30)\n",
    "sns.histplot(misclassified_fwd_pkt_len_max, color=\"red\", label=\"Misclassified\", kde=True, stat=\"density\", bins=30)\n",
    "plt.xlabel('Forward Packet Length Max')\n",
    "plt.ylabel('Density')\n",
    "plt.title('Distribution of Forward Packet Length Max for Misclassified vs Correctly Classified Samples')\n",
    "plt.legend()\n",
    "plt.show()"
   ]
  },
  {
   "cell_type": "markdown",
   "id": "6791208092fdf630",
   "metadata": {
    "collapsed": false,
    "jupyter": {
     "outputs_hidden": false
    }
   },
   "source": [
    "The plot illustrates the distribution of 'Forward Packet Length Max' for both misclassified and correctly classified samples. It reveals that while there's some overlap between the two distributions, misclassified samples have a more varied distribution with significant density at both lower and higher values of 'Forward Packet Length Max'. This suggests that extreme values in this feature might contribute to misclassification, potentially due to their atypical nature compared to the majority of samples in their actual class."
   ]
  },
  {
   "cell_type": "code",
   "execution_count": null,
   "id": "2b3c594dabd21227",
   "metadata": {
    "ExecuteTime": {
     "end_time": "2024-03-14T10:56:40.482143200Z",
     "start_time": "2024-03-14T10:56:40.411171400Z"
    },
    "collapsed": false,
    "jupyter": {
     "outputs_hidden": false
    }
   },
   "outputs": [],
   "source": [
    "# Plotting only the distribution of 'Bwd Packet Length Max' for misclassified vs correctly classified samples\n",
    "misclassified_bwd_pkt_len_max = df_withPred['Bwd Packet Length Max']\n",
    "correctly_classified_bwd_pkt_len_max = correctly_classified_df['Bwd Packet Length Max']"
   ]
  },
  {
   "cell_type": "code",
   "execution_count": null,
   "id": "1b257dd7a1b0985f",
   "metadata": {
    "ExecuteTime": {
     "end_time": "2024-03-14T10:56:44.870341900Z",
     "start_time": "2024-03-14T10:56:43.808524100Z"
    },
    "collapsed": false,
    "jupyter": {
     "outputs_hidden": false
    }
   },
   "outputs": [],
   "source": [
    "plt.figure(figsize=(12, 6))\n",
    "sns.histplot(correctly_classified_bwd_pkt_len_max, color=\"green\", label=\"Correctly Classified\", kde=True, stat=\"density\", bins=30)\n",
    "sns.histplot(misclassified_bwd_pkt_len_max, color=\"red\", label=\"Misclassified\", kde=True, stat=\"density\", bins=30)\n",
    "plt.xlabel('Backward Packet Length Max')\n",
    "plt.ylabel('Density')\n",
    "plt.title('Distribution of Backward Packet Length Max for Misclassified vs Correctly Classified Samples')\n",
    "plt.legend()\n",
    "plt.show()"
   ]
  },
  {
   "cell_type": "markdown",
   "id": "3c4ee09a317ffd80",
   "metadata": {
    "collapsed": false,
    "jupyter": {
     "outputs_hidden": false
    }
   },
   "source": [
    "This plot illustrates that while there is overlap between the two groups, misclassified samples exhibit a broader spread across the range of values, particularly towards higher packet sizes. This suggests that larger backward packet sizes might be a factor contributing to misclassification, indicating the model's sensitivity to variations in this feature. "
   ]
  },
  {
   "cell_type": "code",
   "execution_count": null,
   "id": "9c0a6f42607ecd16",
   "metadata": {
    "collapsed": false,
    "jupyter": {
     "outputs_hidden": false
    }
   },
   "outputs": [],
   "source": []
  }
 ],
 "metadata": {
  "kernelspec": {
   "display_name": "Python 3 (ipykernel)",
   "language": "python",
   "name": "python3"
  },
  "language_info": {
   "codemirror_mode": {
    "name": "ipython",
    "version": 3
   },
   "file_extension": ".py",
   "mimetype": "text/x-python",
   "name": "python",
   "nbconvert_exporter": "python",
   "pygments_lexer": "ipython3",
   "version": "3.10.12"
  }
 },
 "nbformat": 4,
 "nbformat_minor": 5
}
