{
 "cells": [
  {
   "cell_type": "markdown",
   "id": "4e437c41-35e4-416b-ba44-f705a4c0c3d0",
   "metadata": {},
   "source": [
    "<center><b><font size=6>Errori da segnalare<b><center>"
   ]
  },
  {
   "cell_type": "code",
   "execution_count": 1,
   "id": "27f92753-fc60-4a04-811c-319ec2bddb2c",
   "metadata": {},
   "outputs": [],
   "source": [
    "# import needed python libraries\n",
    "\n",
    "%matplotlib inline\n",
    "\n",
    "import pandas as pd\n",
    "import seaborn as sns\n",
    "import numpy as np\n",
    "import matplotlib.pyplot as plt\n",
    "from sklearn.preprocessing import StandardScaler\n",
    "from sklearn.decomposition import PCA\n",
    "import random"
   ]
  },
  {
   "cell_type": "code",
   "execution_count": 2,
   "id": "446000da-c0ba-4e40-b874-1458c3fff282",
   "metadata": {},
   "outputs": [
    {
     "name": "stderr",
     "output_type": "stream",
     "text": [
      "/opt/conda/lib/python3.7/site-packages/IPython/core/interactiveshell.py:3552: DtypeWarning: Columns (85) have mixed types.Specify dtype option on import or set low_memory=False.\n",
      "  exec(code_obj, self.user_global_ns, self.user_ns)\n"
     ]
    }
   ],
   "source": [
    "# load dataset\n",
    "ddos_data = pd.read_csv(\"ddos_dataset.csv\", sep=\",\")\n",
    "ddos_data.rename(columns=lambda x: x.strip(), inplace=True)\n",
    "columns = ddos_data.columns"
   ]
  },
  {
   "cell_type": "markdown",
   "id": "1ee9eb80-3470-4879-933d-e92a2f07cfa9",
   "metadata": {},
   "source": [
    "### 1. SIMILIARHTTP\n",
    "Volevamo inserire questa features nella matrice di correllazione, per farlo dobbiamo standardizzare tutti i dati per cui usiamo una tecnica di Label Encoding\n",
    "che però non funziona perchè assegna allo stesso elemento '0' due codifihe diverse"
   ]
  },
  {
   "cell_type": "code",
   "execution_count": 61,
   "id": "649d7fff-fa7f-4efc-933c-bd7aae6baa21",
   "metadata": {},
   "outputs": [],
   "source": [
    "# Verifico effettivamente questo errore\n",
    "ddos_data.groupby(\"SimillarHTTP\").count()\n",
    "\n",
    "# Provo a risolverlo con strip\n",
    "ddos_date_copy['SimillarHTTP'] = ddos_date_copy['SimillarHTTP'].str.strip().fillna(0)\n",
    "\n",
    "# Controllo se ho risolto\n",
    "ddos_date_copy.groupby(\"SimillarHTTP\").count()\n",
    "\n",
    "# Una volta risolto assegno una codifica\n",
    "#ddos_date_copy['SimillarHTTP code'] = pd.Categorical(ddos_date_copy['SimillarHTTP']).codes\n"
   ]
  }
 ],
 "metadata": {
  "kernelspec": {
   "display_name": "Python 3 (ipykernel)",
   "language": "python",
   "name": "python3"
  },
  "language_info": {
   "codemirror_mode": {
    "name": "ipython",
    "version": 3
   },
   "file_extension": ".py",
   "mimetype": "text/x-python",
   "name": "python",
   "nbconvert_exporter": "python",
   "pygments_lexer": "ipython3",
   "version": "3.7.12"
  }
 },
 "nbformat": 4,
 "nbformat_minor": 5
}
