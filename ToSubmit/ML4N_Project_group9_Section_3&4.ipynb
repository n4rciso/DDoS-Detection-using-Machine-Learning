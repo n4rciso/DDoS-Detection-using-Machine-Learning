{
 "cells": [
  {
   "cell_type": "markdown",
   "id": "2d5383a051201d6f",
   "metadata": {},
   "source": [
    "# Machine Learning for Networking - Group Project 5 - DDoS attacks detection and characterization - Section 3 & 4\n",
    "# Preliminaries operations"
   ]
  },
  {
   "cell_type": "markdown",
   "id": "a441673e3f14d845",
   "metadata": {},
   "source": [
    "## Import needed libraries"
   ]
  },
  {
   "cell_type": "code",
   "execution_count": 1,
   "id": "78c4c1aff4414ad7",
   "metadata": {
    "collapsed": false,
    "trusted": false,
    "ExecuteTime": {
     "end_time": "2024-01-24T10:41:02.826657900Z",
     "start_time": "2024-01-24T10:40:59.353052Z"
    }
   },
   "outputs": [
    {
     "name": "stdout",
     "output_type": "stream",
     "text": [
      "Requirement already satisfied: shap in /opt/conda/lib/python3.7/site-packages (0.42.1)\r\n",
      "Requirement already satisfied: scipy in /opt/conda/lib/python3.7/site-packages (from shap) (1.7.3)\r\n",
      "Requirement already satisfied: scikit-learn in /opt/conda/lib/python3.7/site-packages (from shap) (1.0.2)\r\n",
      "Requirement already satisfied: numpy in /opt/conda/lib/python3.7/site-packages (from shap) (1.21.6)\r\n",
      "Requirement already satisfied: cloudpickle in /opt/conda/lib/python3.7/site-packages (from shap) (2.2.0)\r\n",
      "Requirement already satisfied: tqdm>=4.27.0 in /opt/conda/lib/python3.7/site-packages (from shap) (4.64.1)\r\n",
      "Requirement already satisfied: packaging>20.9 in /opt/conda/lib/python3.7/site-packages (from shap) (21.3)\r\n",
      "Requirement already satisfied: numba in /opt/conda/lib/python3.7/site-packages (from shap) (0.56.2)\r\n",
      "Requirement already satisfied: pandas in /opt/conda/lib/python3.7/site-packages (from shap) (1.3.5)\r\n",
      "Requirement already satisfied: slicer==0.0.7 in /opt/conda/lib/python3.7/site-packages (from shap) (0.0.7)\r\n",
      "Requirement already satisfied: pyparsing!=3.0.5,>=2.0.2 in /opt/conda/lib/python3.7/site-packages (from packaging>20.9->shap) (3.0.9)\r\n",
      "Requirement already satisfied: setuptools in /opt/conda/lib/python3.7/site-packages (from numba->shap) (59.8.0)\r\n",
      "Requirement already satisfied: importlib-metadata in /opt/conda/lib/python3.7/site-packages (from numba->shap) (4.11.4)\r\n",
      "Requirement already satisfied: llvmlite<0.40,>=0.39.0dev0 in /opt/conda/lib/python3.7/site-packages (from numba->shap) (0.39.1)\r\n",
      "Requirement already satisfied: python-dateutil>=2.7.3 in /opt/conda/lib/python3.7/site-packages (from pandas->shap) (2.8.2)\r\n",
      "Requirement already satisfied: pytz>=2017.3 in /opt/conda/lib/python3.7/site-packages (from pandas->shap) (2022.4)\r\n",
      "Requirement already satisfied: threadpoolctl>=2.0.0 in /opt/conda/lib/python3.7/site-packages (from scikit-learn->shap) (3.1.0)\r\n",
      "Requirement already satisfied: joblib>=0.11 in /opt/conda/lib/python3.7/site-packages (from scikit-learn->shap) (1.2.0)\r\n",
      "Requirement already satisfied: six>=1.5 in /opt/conda/lib/python3.7/site-packages (from python-dateutil>=2.7.3->pandas->shap) (1.16.0)\r\n",
      "Requirement already satisfied: typing-extensions>=3.6.4 in /opt/conda/lib/python3.7/site-packages (from importlib-metadata->numba->shap) (4.4.0)\r\n",
      "Requirement already satisfied: zipp>=0.5 in /opt/conda/lib/python3.7/site-packages (from importlib-metadata->numba->shap) (3.9.0)\r\n"
     ]
    },
    {
     "name": "stderr",
     "output_type": "stream",
     "text": [
      "Using `tqdm.autonotebook.tqdm` in notebook mode. Use `tqdm.tqdm` instead to force console mode (e.g. in jupyter console)\n"
     ]
    }
   ],
   "source": [
    "#Import needed libraries\n",
    "! pip3 install shap\n",
    "\n",
    "import matplotlib.pyplot as plt\n",
    "import numpy as np\n",
    "import pandas as pd\n",
    "import seaborn as sns\n",
    "from joblib import Parallel, delayed\n",
    "from sklearn.cluster import KMeans\n",
    "from sklearn.decomposition import PCA\n",
    "from sklearn.metrics import silhouette_score, adjusted_rand_score, rand_score\n",
    "from sklearn.mixture import GaussianMixture\n",
    "from sklearn.preprocessing import StandardScaler\n",
    "from sklearn.model_selection import train_test_split\n",
    "from sklearn.ensemble import RandomForestClassifier\n",
    "import shap\n",
    "\n"
   ]
  },
  {
   "cell_type": "markdown",
   "id": "f3b08dde702a1963",
   "metadata": {},
   "source": [
    "## Data preparation & standardization"
   ]
  },
  {
   "cell_type": "code",
   "execution_count": 2,
   "id": "47bf6c4c-9e70-4ee2-a97a-7ad82c3d791f",
   "metadata": {
    "collapsed": false,
    "trusted": false,
    "ExecuteTime": {
     "end_time": "2024-01-24T10:41:03.557460Z",
     "start_time": "2024-01-24T10:41:02.810613400Z"
    }
   },
   "outputs": [
    {
     "name": "stderr",
     "output_type": "stream",
     "text": [
      "Columns (85) have mixed types.Specify dtype option on import or set low_memory=False.\n"
     ]
    }
   ],
   "source": [
    "columns_to_remove = ['Active Mean', 'Active Std', 'Average Packet Size', 'Avg Bwd Segment Size', 'Avg Fwd Segment Size',\n",
    "                     'Bwd IAT Max', 'Bwd IAT Mean', 'Bwd IAT Std', 'Bwd Packet Length Mean', 'Bwd Packet Length Std',\n",
    "                     'Flow Duration', 'Flow IAT Max', 'Flow IAT Mean', 'Flow IAT Min', 'Flow IAT Std', 'Flow Packets/s',\n",
    "                     'Fwd Header Length', 'Fwd IAT Max', 'Fwd IAT Mean', 'Fwd IAT Std', 'Fwd IAT Total',\n",
    "                     'Fwd PSH Flags', 'Fwd Packet Length Mean', 'Fwd Packet Length Min', 'Idle Max', 'Idle Mean',\n",
    "                     'Min Packet Length', 'Packet Length Mean', 'Packet Length Std', 'Packet Length Variance',\n",
    "                     'Protocol', 'Subflow Bwd Bytes', 'Subflow Bwd Packets', 'Subflow Fwd Bytes', 'Subflow Fwd Packets',\n",
    "                     'Total Backward Packets', 'Total Length of Bwd Packets', 'Total Length of Fwd Packets']\n",
    "\n",
    "ddos_data = pd.read_csv(\"ddos_dataset.csv\", sep=\",\")\n",
    "ddos_data.rename(columns=lambda x: x.strip(), inplace=True)\n",
    "ddos_data['SimillarHTTP'] = ddos_data['SimillarHTTP'].apply(lambda x: str(x) if x == 0 else x)\n",
    "ddos_data['SimillarHTTP'] = ddos_data['SimillarHTTP'].str.strip().fillna(0, inplace=True)\n",
    "ddos_data = ddos_data.drop(columns=columns_to_remove, errors='ignore')"
   ]
  },
  {
   "cell_type": "code",
   "execution_count": 3,
   "id": "6f40dab6-bfe8-427b-9250-1f2c6806873b",
   "metadata": {
    "tags": [],
    "trusted": false,
    "ExecuteTime": {
     "end_time": "2024-01-24T10:41:04.858318Z",
     "start_time": "2024-01-24T10:41:03.555458800Z"
    }
   },
   "outputs": [],
   "source": [
    "#standardize\n",
    "# Get X and y\n",
    "ddos_data.drop(columns=[\"Unnamed: 0\", \"Destination IP\", \"Source IP\", \"Timestamp\", \"SimillarHTTP\"], axis=1, inplace=True)\n",
    "ddos_data_original = ddos_data.copy()\n",
    "ddos_data = ddos_data.set_index('Flow ID')\n",
    "X = ddos_data.drop(columns=['label']).to_numpy()\n",
    "y = ddos_data[['label']].values\n",
    "\n",
    "# Scale Data\n",
    "scaler = StandardScaler()\n",
    "X_s = scaler.fit_transform(X)\n",
    "\n",
    "#PCA\n",
    "pca = PCA(n_components=9, random_state=15)\n",
    "X_s = pca.fit_transform(X_s)\n"
   ]
  },
  {
   "cell_type": "markdown",
   "id": "476287a6740c5dc9",
   "metadata": {},
   "source": [
    "# Section 3\n",
    "\n",
    "The aim of this section is to find the best clustering algorithm with the best $k$.\n",
    "\n",
    "## 1 Unsupervised Learning: K-means attempt\n",
    "First of all, we define a function to perform k-means clustering and store metrics\n"
   ]
  },
  {
   "cell_type": "code",
   "execution_count": 4,
   "id": "6b768d1c462f46bb",
   "metadata": {
    "collapsed": false,
    "trusted": false,
    "ExecuteTime": {
     "end_time": "2024-01-24T10:41:04.875834400Z",
     "start_time": "2024-01-24T10:41:04.862115Z"
    }
   },
   "outputs": [],
   "source": [
    "def perform_kmeans_clustering(n_clusters, X_s, y):\n",
    "    kmeans = KMeans(n_clusters=n_clusters, random_state=42)\n",
    "    cl_labels = kmeans.fit_predict(X_s)\n",
    "    silhouette = silhouette_score(X_s, cl_labels)\n",
    "    ri = rand_score(np.ravel(y), cl_labels)\n",
    "    ari = adjusted_rand_score(np.ravel(y), cl_labels)\n",
    "    inertia = kmeans.inertia_\n",
    "    return n_clusters, silhouette, ri, ari, inertia, cl_labels"
   ]
  },
  {
   "cell_type": "code",
   "execution_count": 5,
   "id": "b2c75209c053233d",
   "metadata": {
    "trusted": false,
    "ExecuteTime": {
     "end_time": "2024-01-24T10:43:02.802713200Z",
     "start_time": "2024-01-24T10:41:04.869985300Z"
    }
   },
   "outputs": [
    {
     "name": "stdout",
     "output_type": "stream",
     "text": [
      "Best initial k:  15  with corresponding silhouette:  0.49511533967765703\n",
      "Best refined k:  14  with corresponding silhouette:  0.5376187674752735\n",
      "CPU times: user 108 ms, sys: 281 ms, total: 389 ms\n",
      "Wall time: 1min 57s\n"
     ]
    }
   ],
   "source": [
    "%%time\n",
    "\n",
    "# Arrays init\n",
    "n_cluster_list_kmeans = []\n",
    "shs_list_kmeans = []\n",
    "ri_list_kmeans = []\n",
    "ari_list_kmeans = []\n",
    "inertia_list_kmeans = []\n",
    "\n",
    "# Define a range of n_clusters for the initial broader search\n",
    "initial_range = range(3, 16, 3)\n",
    "\n",
    "# Use Parallel and delayed to parallelize the loop\n",
    "results_kmeans = Parallel(n_jobs=-1)(\n",
    "    delayed(perform_kmeans_clustering)(n_clusters, X_s, y) for n_clusters in initial_range)\n",
    "\n",
    "# Extract the results into separate lists\n",
    "n_cluster_list_kmeans, shs_list_kmeans, ri_list_kmeans, ari_list_kmeans, inertia_list_kmeans, tmp_kmeans = zip(\n",
    "    *results_kmeans)\n",
    "\n",
    "# Get n_clusters leading to the highest silhouette\n",
    "best_sh_kmeans = np.max(shs_list_kmeans)\n",
    "best_n_kmeans = n_cluster_list_kmeans[np.argmax(shs_list_kmeans)]\n",
    "print(\"Best initial k: \", best_n_kmeans, \" with corresponding silhouette: \", best_sh_kmeans)\n",
    "\n",
    "# Refine search around the best k found\n",
    "refined_n_cluster_list_kmeans = []\n",
    "refined_shs_list_kmeans = []\n",
    "refined_ri_list_kmeans = []\n",
    "refined_ari_list_kmeans = []\n",
    "refined_inertia_list_kmeans = []\n",
    "\n",
    "# Define the refined range around the best k\n",
    "refined_range = range(max(3, best_n_kmeans - 2), min(16, best_n_kmeans + 3))\n",
    "\n",
    "# Use Parallel and delayed to parallelize the loop for the refined search\n",
    "results_refined_kmeans = Parallel(n_jobs=-1)(\n",
    "    delayed(perform_kmeans_clustering)(n_clusters, X_s, y) for n_clusters in refined_range)\n",
    "\n",
    "# Extract the results into separate lists\n",
    "refined_n_cluster_list_kmeans, refined_shs_list_kmeans, refined_ri_list_kmeans, refined_ari_list_kmeans, refined_inertia_list_kmeans, refined_cl_labels_list_kmeans = zip(\n",
    "    *results_refined_kmeans)\n",
    "\n",
    "# Get the best refined k\n",
    "best_refined_sh_kmeans = np.max(refined_shs_list_kmeans)\n",
    "best_refined_n_kmeans = refined_n_cluster_list_kmeans[np.argmax(refined_shs_list_kmeans)]\n",
    "best_refined_kmeans = np.array([best_refined_sh_kmeans, best_refined_n_kmeans])\n",
    "print(\"Best refined k: \", best_refined_n_kmeans, \" with corresponding silhouette: \", best_refined_sh_kmeans)\n",
    "# Best refined k:  11  with corresponding silhouette:  0.65934319268926"
   ]
  },
  {
   "cell_type": "markdown",
   "id": "addc8d6987359f83",
   "metadata": {},
   "source": [
    "## 2 Unsupervised Learning: GMM attempt\n",
    "\n",
    "First of all, we define a function to perform GMM clustering and store metrics\n"
   ]
  },
  {
   "cell_type": "code",
   "execution_count": 6,
   "id": "eca85671ce3068c9",
   "metadata": {
    "collapsed": false,
    "trusted": false,
    "ExecuteTime": {
     "end_time": "2024-01-24T10:43:02.802713200Z",
     "start_time": "2024-01-24T10:43:02.802713200Z"
    }
   },
   "outputs": [],
   "source": [
    "def perform_gmm_clustering(n_clusters, X_s, y, init_params):\n",
    "    gmm = GaussianMixture(n_components=n_clusters, init_params=init_params, random_state=42)\n",
    "    cl_labels = gmm.fit_predict(X_s)\n",
    "    silhouette = silhouette_score(X_s, cl_labels)\n",
    "    ri = rand_score(np.ravel(y), cl_labels)\n",
    "    ari = adjusted_rand_score(np.ravel(y), cl_labels)\n",
    "    log_likelihood = gmm.score(X_s)\n",
    "    return n_clusters, silhouette, ri, ari, log_likelihood"
   ]
  },
  {
   "cell_type": "markdown",
   "id": "f55bb0ba426bd798",
   "metadata": {},
   "source": [
    "### 2.1 First case: init_params='kmeans'"
   ]
  },
  {
   "cell_type": "code",
   "execution_count": 7,
   "id": "5e42a41e199e2943",
   "metadata": {
    "trusted": false,
    "ExecuteTime": {
     "end_time": "2024-01-24T10:44:03.604438500Z",
     "start_time": "2024-01-24T10:43:02.806460100Z"
    }
   },
   "outputs": [
    {
     "name": "stdout",
     "output_type": "stream",
     "text": [
      "best k:  6  with corresponding silhouette:  0.3984150665607399\n",
      "CPU times: user 29.3 ms, sys: 8.84 ms, total: 38.1 ms\n",
      "Wall time: 1min\n"
     ]
    }
   ],
   "source": [
    "%%time\n",
    "#In this case use as hyper-parameter init_params = kmeans\n",
    "\n",
    "# Arrays init\n",
    "n_cluster_list_gmm_kmeans = []\n",
    "shs_list_gmm_kmeans = []\n",
    "log_l_list_gmm_kmeans = []\n",
    "ri_list_gmm_kmeans = []\n",
    "ari_list_gmm_kmeans = []\n",
    "\n",
    "# Use Parallel and delayed to parallelize the loop\n",
    "results_gmm_kmeans = Parallel(n_jobs=-1)(\n",
    "    delayed(perform_gmm_clustering)(n_clusters, X_s, y, 'kmeans') for n_clusters in range(3, 8))\n",
    "\n",
    "# Extract the results into separate lists\n",
    "n_cluster_list_gmm_kmeans, shs_list_gmm_kmeans, ri_list_gmm_kmeans, ari_list_gmm_kmeans, log_l_list_gmm_kmeans = zip(\n",
    "    *results_gmm_kmeans)\n",
    "\n",
    "# Get n_clusters leading to the highest silhouette\n",
    "best_sh_gmm_kmeans = np.max(shs_list_gmm_kmeans)\n",
    "best_n_gmm_kmeans = n_cluster_list_gmm_kmeans[np.argmax(shs_list_gmm_kmeans)]\n",
    "best_gmm_kmeans = np.array([best_sh_gmm_kmeans, best_n_gmm_kmeans])\n",
    "print(\"best k: \", best_n_gmm_kmeans, \" with corresponding silhouette: \", best_sh_gmm_kmeans)\n",
    "# best k:  7  with corresponding silhouette:  0.6005188797984231"
   ]
  },
  {
   "cell_type": "markdown",
   "id": "a46765127a7c08a0",
   "metadata": {},
   "source": [
    "#### Plots of Silhouette, Log-Likihood score and ARI"
   ]
  },
  {
   "cell_type": "code",
   "execution_count": 8,
   "id": "01140e05-da7c-4d5f-adcd-1df49d5188ba",
   "metadata": {
    "collapsed": false,
    "trusted": false,
    "ExecuteTime": {
     "end_time": "2024-01-24T10:44:04.132249600Z",
     "start_time": "2024-01-24T10:44:03.592362100Z"
    }
   },
   "outputs": [
    {
     "data": {
      "text/plain": "<Figure size 500x350 with 1 Axes>",
      "image/png": "[encoded data removed]"
     },
     "metadata": {},
     "output_type": "display_data"
    },
    {
     "data": {
      "text/plain": "<Figure size 500x350 with 1 Axes>",
      "image/png": "[encoded data removed]"
     },
     "metadata": {},
     "output_type": "display_data"
    },
    {
     "data": {
      "text/plain": "<Figure size 500x350 with 1 Axes>",
      "image/png": "[encoded data removed]"
     },
     "metadata": {},
     "output_type": "display_data"
    }
   ],
   "source": [
    "# Plot\n",
    "plt.figure(figsize=(5, 3.5))\n",
    "plt.plot(n_cluster_list_gmm_kmeans, shs_list_gmm_kmeans, marker='o', markersize=5)\n",
    "plt.scatter(best_n_gmm_kmeans, best_sh_gmm_kmeans, color='r', marker='x', s=90)\n",
    "plt.grid()\n",
    "plt.xlabel('Number of clusters')\n",
    "plt.ylabel('Silhouette score')\n",
    "plt.xticks(np.arange(min(n_cluster_list_gmm_kmeans), max(n_cluster_list_gmm_kmeans)+1, 1.0))\n",
    "plt.show()\n",
    "\n",
    "# Plot GMM total log-likelihood score\n",
    "plt.figure(figsize=(5, 3.5))\n",
    "plt.plot(n_cluster_list_gmm_kmeans, log_l_list_gmm_kmeans, marker='o', markersize=5)\n",
    "plt.grid()\n",
    "plt.xlabel('Number of clusters')\n",
    "plt.ylabel('GMM total log-likelihood score')\n",
    "plt.xticks(np.arange(min(n_cluster_list_gmm_kmeans), max(n_cluster_list_gmm_kmeans)+1, 1.0))\n",
    "plt.show()\n",
    "\n",
    "# Plot ARI\n",
    "plt.figure(figsize=(5, 3.5))\n",
    "plt.plot(n_cluster_list_gmm_kmeans, ari_list_gmm_kmeans, marker='o', markersize=5)\n",
    "plt.grid()\n",
    "plt.xlabel('Number of clusters')\n",
    "plt.ylabel('ARI')\n",
    "plt.xticks(np.arange(min(n_cluster_list_gmm_kmeans), max(n_cluster_list_gmm_kmeans)+1, 1.0))\n",
    "plt.show()"
   ]
  },
  {
   "cell_type": "markdown",
   "id": "3cbc28d2ca7a0d68",
   "metadata": {},
   "source": [
    "### 2.2 Second case: init_params = random"
   ]
  },
  {
   "cell_type": "code",
   "execution_count": 9,
   "id": "6e9fd0ff663c5be0",
   "metadata": {
    "trusted": false,
    "ExecuteTime": {
     "end_time": "2024-01-24T10:46:06.875659300Z",
     "start_time": "2024-01-24T10:44:04.138348100Z"
    }
   },
   "outputs": [
    {
     "name": "stdout",
     "output_type": "stream",
     "text": [
      "Best initial k:  3  with corresponding silhouette:  0.3603249611170074\n",
      "Best refined k:  5  with corresponding silhouette:  0.4102666682711448\n",
      "CPU times: user 100 ms, sys: 55.1 ms, total: 155 ms\n",
      "Wall time: 2min 2s\n"
     ]
    }
   ],
   "source": [
    "%%time\n",
    "\n",
    "#GaussianMixture\n",
    "#In this case use as hyper-parameter init_params = random\n",
    "\n",
    "#We compute the different scores for each iteration\n",
    "\n",
    "#print(X_s)\n",
    "#print(y)\n",
    "\n",
    "# Arrays init\n",
    "n_cluster_list_gmm_random = []\n",
    "shs_list_gmm_random = []\n",
    "ri_list_gmm_random = []\n",
    "ari_list_gmm_random = []\n",
    "log_l_list_gmm_random = []\n",
    "\n",
    "# Define the range for initial search\n",
    "initial_search_range = range(3, 16, 3)  # Larger step size\n",
    "\n",
    "# Use Parallel and delayed to parallelize the initial search\n",
    "results_gmm_random = Parallel(n_jobs=-1)(\n",
    "    delayed(perform_gmm_clustering)(n_clusters, X_s, y, 'random') for n_clusters in initial_search_range)\n",
    "\n",
    "n_cluster_list_gmm_random, shs_list_gmm_random, ri_list_gmm_random, ari_list_gmm_random, log_l_list_gmm_random = zip(\n",
    "    *results_gmm_random)\n",
    "\n",
    "# Find the best initial k\n",
    "best_sh_gmm_random = np.max(shs_list_gmm_random)\n",
    "best_n_gmm_random = n_cluster_list_gmm_random[np.argmax(shs_list_gmm_random)]\n",
    "\n",
    "print(\"Best initial k: \", best_n_gmm_random, \" with corresponding silhouette: \", best_sh_gmm_random)\n",
    "# Best refined k:  3  with corresponding silhouette:  0.44878078445247965\n",
    "\n",
    "# Refine search around the best k found\n",
    "refined_n_cluster_list_gmm_random = []\n",
    "refined_shs_list_gmm_random = []\n",
    "refined_ri_list_gmm_random = []\n",
    "refined_ari_list_gmm_random = []\n",
    "refined_log_l_list_gmm_random = []\n",
    "\n",
    "# Define the refined range\n",
    "refined_range = range(max(3, best_n_gmm_random - 2), min(16, best_n_gmm_random + 3))\n",
    "\n",
    "# Use Parallel and delayed to parallelize the loop for the refined search\n",
    "results_refined_gmm_random = Parallel(n_jobs=-1)(\n",
    "    delayed(perform_gmm_clustering)(n_clusters, X_s, y, 'random') for n_clusters in refined_range)\n",
    "\n",
    "refined_n_cluster_list_gmm_random, refined_shs_list_gmm_random, refined_ri_list_gmm_random, refined_ari_list_gmm_random, refined_log_l_list_gmm_random = zip(\n",
    "    *results_refined_gmm_random)\n",
    "\n",
    "# Find the best refined k\n",
    "best_refined_sh_gmm_random = np.max(refined_shs_list_gmm_random)\n",
    "best_refined_n_gmm_random = refined_n_cluster_list_gmm_random[np.argmax(refined_shs_list_gmm_random)]\n",
    "best_refined_gmm_random = np.array([best_refined_sh_gmm_random, best_refined_n_gmm_random])\n",
    "print(\"Best refined k: \", best_refined_n_gmm_random, \" with corresponding silhouette: \", best_refined_sh_gmm_random)\n",
    "# Best initial k:  9  with corresponding silhouette:  0.3787662958622737"
   ]
  },
  {
   "cell_type": "markdown",
   "id": "5de84f186014f5c2",
   "metadata": {},
   "source": [
    "#### Plots of Silhouette, Log-Likihood score and ARI\n"
   ]
  },
  {
   "cell_type": "code",
   "execution_count": 10,
   "id": "d7ca7006-59d2-42bc-86aa-0309696a9f2d",
   "metadata": {
    "collapsed": false,
    "trusted": false,
    "ExecuteTime": {
     "end_time": "2024-01-24T10:46:07.231225200Z",
     "start_time": "2024-01-24T10:46:06.890736900Z"
    }
   },
   "outputs": [
    {
     "data": {
      "text/plain": "<Figure size 500x350 with 1 Axes>",
      "image/png": "[encoded data removed]"
     },
     "metadata": {},
     "output_type": "display_data"
    },
    {
     "data": {
      "text/plain": "<Figure size 500x350 with 1 Axes>",
      "image/png": "[encoded data removed]"
     },
     "metadata": {},
     "output_type": "display_data"
    },
    {
     "data": {
      "text/plain": "<Figure size 500x350 with 1 Axes>",
      "image/png": "[encoded data removed]"
     },
     "metadata": {},
     "output_type": "display_data"
    }
   ],
   "source": [
    "# Plot\n",
    "plt.figure(figsize=(5, 3.5))\n",
    "plt.plot(refined_n_cluster_list_gmm_random, refined_shs_list_gmm_random, marker='o', markersize=5)\n",
    "plt.scatter(best_refined_n_gmm_random, best_refined_sh_gmm_random, color='r', marker='x', s=90)\n",
    "plt.grid()\n",
    "plt.xlabel('Number of clusters')\n",
    "plt.ylabel('Silhouette score')\n",
    "plt.xticks(np.arange(min(refined_n_cluster_list_gmm_random), max(refined_n_cluster_list_gmm_random)+1, 1.0))\n",
    "plt.show()\n",
    "\n",
    "# Plot GMM total log-likelihood score\n",
    "plt.figure(figsize=(5, 3.5))\n",
    "plt.plot(refined_n_cluster_list_gmm_random, refined_log_l_list_gmm_random, marker='o', markersize=5)\n",
    "plt.grid()\n",
    "plt.xlabel('Number of clusters')\n",
    "plt.ylabel('GMM total log-likelihood score')\n",
    "plt.xticks(np.arange(min(refined_n_cluster_list_gmm_random), max(refined_n_cluster_list_gmm_random)+1, 1.0))\n",
    "plt.show()\n",
    "\n",
    "# Plot ARI\n",
    "plt.figure(figsize=(5, 3.5))\n",
    "plt.plot(refined_n_cluster_list_gmm_random, refined_ari_list_gmm_random, marker='o', markersize=5)\n",
    "plt.grid()\n",
    "plt.xlabel('Number of clusters')\n",
    "plt.ylabel('ARI')\n",
    "plt.xticks(np.arange(min(refined_n_cluster_list_gmm_random), max(refined_n_cluster_list_gmm_random)+1, 1.0))\n",
    "plt.show()\n"
   ]
  },
  {
   "cell_type": "code",
   "execution_count": 11,
   "id": "b9221f2f-a3cc-483e-9f7c-f93901b06112",
   "metadata": {
    "tags": [],
    "trusted": false,
    "ExecuteTime": {
     "end_time": "2024-01-24T10:46:07.261294200Z",
     "start_time": "2024-01-24T10:46:07.239229900Z"
    }
   },
   "outputs": [
    {
     "name": "stdout",
     "output_type": "stream",
     "text": [
      "CPU times: user 6 µs, sys: 7 µs, total: 13 µs\n",
      "Wall time: 26.7 µs\n"
     ]
    }
   ],
   "source": [
    "%%time\n",
    "\n",
    "# Plot ECDF per il numero di flussi per cluster\n",
    "#plt.figure(figsize=(8, 5))\n",
    "#sns.ecdfplot(data=cluster_df, x='NumFlows', hue='Cluster',palette='coolwarm')\n",
    "#plt.title('ECDF of Number of Flows per Cluster')\n",
    "#plt.xlabel('Number of Flows')\n",
    "#plt.ylabel('ECDF')\n",
    "#plt.show()"
   ]
  },
  {
   "cell_type": "markdown",
   "id": "eb8e81271474f1d2",
   "metadata": {},
   "source": [
    "## Conclusions\n",
    "\n",
    "In this section, we decide which is the best method of clustering, and with which k."
   ]
  },
  {
   "cell_type": "code",
   "execution_count": 12,
   "id": "ffb90e36cc728ff8",
   "metadata": {
    "collapsed": false,
    "trusted": false,
    "ExecuteTime": {
     "end_time": "2024-01-24T10:46:07.262294200Z",
     "start_time": "2024-01-24T10:46:07.246244300Z"
    }
   },
   "outputs": [
    {
     "name": "stdout",
     "output_type": "stream",
     "text": [
      "The best clustering algorithm is KMeans (Refined) with a silhouette score of 0.5376187674752735.\n",
      "The optimal number of clusters for KMeans (Refined) is 14.\n"
     ]
    }
   ],
   "source": [
    "# Comparing the silhouette scores\n",
    "scores = {\n",
    "    \"KMeans (Refined)\": best_refined_kmeans[0],\n",
    "    \"GMM (KMeans Init)\": best_gmm_kmeans[0],\n",
    "    \"GMM (Random Init)\": best_refined_gmm_random[0]\n",
    "}\n",
    "\n",
    "# Find the algorithm with the highest score\n",
    "best_algorithm = max(scores, key=scores.get)\n",
    "best_score = scores[best_algorithm]\n",
    "\n",
    "# Output the best algorithm and its score\n",
    "print(f\"The best clustering algorithm is {best_algorithm} with a silhouette score of {best_score}.\")\n",
    "\n",
    "# If needed, output the corresponding number of clusters\n",
    "if best_algorithm == \"KMeans (Refined)\":\n",
    "    best_n = best_refined_kmeans[1]\n",
    "elif best_algorithm == \"GMM (KMeans Init)\":\n",
    "    best_n = best_gmm_kmeans[1]\n",
    "else:\n",
    "    best_n = best_refined_gmm_random[1]\n",
    "\n",
    "best_n = int(best_n)\n",
    "print(f\"The optimal number of clusters for {best_algorithm} is {best_n}.\")"
   ]
  },
  {
   "cell_type": "markdown",
   "id": "f2a1d2110670e2a4",
   "metadata": {},
   "source": [
    "# Section 4\n",
    "## 4.1  Do clusters reflect the GT labels ?\n",
    "\n",
    "We use the data and the results of the k-means attempt"
   ]
  },
  {
   "cell_type": "code",
   "execution_count": 13,
   "id": "c6c0e41f",
   "metadata": {
    "collapsed": false,
    "trusted": false,
    "ExecuteTime": {
     "end_time": "2024-01-24T10:47:55.437325500Z",
     "start_time": "2024-01-24T10:46:07.263294200Z"
    }
   },
   "outputs": [
    {
     "name": "stdout",
     "output_type": "stream",
     "text": [
      "[7 3 7 ... 3 3 3]\n",
      "Silhouette Score: 0.5376187674752735\n",
      "Adjusted Rand Index: 0.3472982159289136\n",
      "CPU times: user 2min 12s, sys: 5min 54s, total: 8min 7s\n",
      "Wall time: 1min 32s\n"
     ]
    }
   ],
   "source": [
    "%%time\n",
    "\n",
    "#best_n = 11 This variable could be used as hard-coded if we don't want to execute all the notebook.\n",
    "\n",
    "model = KMeans(n_clusters=best_n, random_state=42)\n",
    "cluster_labels = model.fit_predict(X_s)\n",
    "\n",
    "print(cluster_labels)\n",
    "\n",
    "# Calculate clustering metrics\n",
    "silhouette = silhouette_score(X_s, cluster_labels)\n",
    "ari = adjusted_rand_score(np.ravel(y), cluster_labels)\n",
    "\n",
    "print(f\"Silhouette Score: {silhouette}\")\n",
    "print(f\"Adjusted Rand Index: {ari}\")"
   ]
  },
  {
   "cell_type": "code",
   "execution_count": 14,
   "id": "1dc3962d0ddbaf74",
   "metadata": {
    "collapsed": false,
    "trusted": false,
    "ExecuteTime": {
     "end_time": "2024-01-24T10:47:55.448685100Z",
     "start_time": "2024-01-24T10:47:55.437325500Z"
    }
   },
   "outputs": [
    {
     "name": "stdout",
     "output_type": "stream",
     "text": [
      "           Label  Unique_Clusters_Count\n",
      "0         benign                     13\n",
      "1       ddos_dns                     11\n",
      "2      ddos_ldap                      6\n",
      "3     ddos_mssql                      5\n",
      "4   ddos_netbios                      4\n",
      "5       ddos_ntp                      6\n",
      "6      ddos_snmp                      1\n",
      "7      ddos_ssdp                      6\n",
      "8       ddos_syn                      2\n",
      "9      ddos_tftp                      5\n",
      "10      ddos_udp                      3\n",
      "11  ddos_udp_lag                      1\n"
     ]
    }
   ],
   "source": [
    "# Find the index of best_refined_n in refined_n_cluster_list\n",
    "\n",
    "best_refined_index = refined_n_cluster_list_kmeans.index(best_refined_n_kmeans)\n",
    "\n",
    "# Use this index to get the corresponding cluster labels\n",
    "best_refined_cl_labels = refined_cl_labels_list_kmeans[best_refined_index]\n",
    "\n",
    "# best_refined_cl_labels now contains the cluster labels for the best refined clustering\n",
    "ddos_tmp = ddos_data_original.copy()\n",
    "ddos_tmp['assigned_cluster'] = best_refined_cl_labels\n",
    "\n",
    "# Group by 'label' and count unique clusters for each label\n",
    "unique_clusters_per_label = ddos_tmp.groupby('label')['assigned_cluster'].nunique()\n",
    "\n",
    "# Create a new DataFrame from the result\n",
    "label_cluster_count_df = unique_clusters_per_label.reset_index()\n",
    "label_cluster_count_df.columns = ['Label', 'Unique_Clusters_Count']\n",
    "\n",
    "# 'label_cluster_count_df' now contains each label with the count of unique clusters associated with it\n",
    "print(label_cluster_count_df)"
   ]
  },
  {
   "cell_type": "markdown",
   "id": "c7776dc3-5173-422a-8f34-d7df35665cb4",
   "metadata": {},
   "source": [
    "## 4.1  ECDF of number of clusters assigned to each class"
   ]
  },
  {
   "cell_type": "code",
   "execution_count": 15,
   "id": "57966760a1bda039",
   "metadata": {
    "collapsed": false,
    "trusted": false,
    "ExecuteTime": {
     "end_time": "2024-01-24T10:47:55.482238900Z",
     "start_time": "2024-01-24T10:47:55.447685800Z"
    }
   },
   "outputs": [
    {
     "data": {
      "text/plain": "<Figure size 800x500 with 1 Axes>",
      "image/png": "[encoded data removed]"
     },
     "metadata": {},
     "output_type": "display_data"
    }
   ],
   "source": [
    "plt.figure(figsize=(8, 5))\n",
    "sns.ecdfplot(data=label_cluster_count_df, x='Unique_Clusters_Count')\n",
    "plt.title(' ECDF of number of clusters assigned to each class')\n",
    "plt.xlabel('Number of clusters')\n",
    "plt.ylabel('ECDF')\n",
    "plt.yticks(np.arange(0, 1.1, 0.1))  # This sets y-ticks at intervals of 0.1\n",
    "plt.grid(True)\n",
    "plt.show()"
   ]
  },
  {
   "cell_type": "code",
   "execution_count": 16,
   "id": "502350ff24914de9",
   "metadata": {
    "collapsed": false,
    "trusted": false,
    "ExecuteTime": {
     "end_time": "2024-01-24T10:47:55.493239200Z",
     "start_time": "2024-01-24T10:47:55.481282800Z"
    }
   },
   "outputs": [
    {
     "name": "stdout",
     "output_type": "stream",
     "text": [
      "Cluster 1 is not pure\n",
      "Cluster 2 is pure\n",
      "Cluster 3 is pure\n",
      "Cluster 4 is pure\n",
      "Cluster 5 is not pure\n",
      "Cluster 6 is not pure\n",
      "Cluster 11 is pure\n",
      "Cluster 13 is pure\n"
     ]
    }
   ],
   "source": [
    "# Group by cluster label\n",
    "grouped_by_cluster = label_cluster_count_df.groupby('Unique_Clusters_Count')\n",
    "\n",
    "# Initialize a dictionary to hold the purity status of each cluster\n",
    "cluster_purity = {}\n",
    "\n",
    "# Check each cluster\n",
    "for cluster_label, group in grouped_by_cluster:\n",
    "    unique_labels = group['Label'].unique()\n",
    "    cluster_purity[cluster_label] = len(unique_labels) == 1\n",
    "\n",
    "# Print the purity status of each cluster\n",
    "for cluster_label, is_pure in cluster_purity.items():\n",
    "    print(f\"Cluster {cluster_label} is {'pure' if is_pure else 'not pure'}\")"
   ]
  },
  {
   "cell_type": "markdown",
   "id": "2325a0f51c2371e9",
   "metadata": {},
   "source": [
    "## 4.1  What is ECDF of number of clusters assigned to each class?"
   ]
  },
  {
   "cell_type": "code",
   "execution_count": 17,
   "id": "afafb45c-3b86-4097-8620-a462f324e32c",
   "metadata": {
    "collapsed": false,
    "trusted": false,
    "ExecuteTime": {
     "end_time": "2024-01-24T10:47:55.495262100Z",
     "start_time": "2024-01-24T10:47:55.493239200Z"
    }
   },
   "outputs": [
    {
     "name": "stdout",
     "output_type": "stream",
     "text": [
      "CPU times: user 4.8 ms, sys: 2.27 ms, total: 7.07 ms\n",
      "Wall time: 7.03 ms\n"
     ]
    }
   ],
   "source": [
    "%%time\n",
    "\n",
    "\n",
    "# Analizza il numero di flussi per cluster\n",
    "cluster_df = pd.DataFrame({'Cluster': cluster_labels, 'NumFlows': ddos_data.index}).reset_index()"
   ]
  },
  {
   "cell_type": "code",
   "execution_count": 18,
   "id": "e5e97c04-4648-497a-a641-f02ad415d258",
   "metadata": {
    "tags": [],
    "trusted": false,
    "ExecuteTime": {
     "end_time": "2024-01-24T10:47:55.495262100Z",
     "start_time": "2024-01-24T10:47:55.493239200Z"
    }
   },
   "outputs": [
    {
     "name": "stdout",
     "output_type": "stream",
     "text": [
      "Cluster 1 is not pure\n",
      "Cluster 2 is pure\n",
      "Cluster 3 is pure\n",
      "Cluster 4 is pure\n",
      "Cluster 5 is not pure\n",
      "Cluster 6 is not pure\n",
      "Cluster 11 is pure\n",
      "Cluster 13 is pure\n"
     ]
    }
   ],
   "source": [
    "# Group by cluster label\n",
    "grouped_by_cluster = label_cluster_count_df.groupby('Unique_Clusters_Count')\n",
    "\n",
    "# Initialize a dictionary to hold the purity status of each cluster\n",
    "cluster_purity = {}\n",
    "\n",
    "# Check each cluster\n",
    "for cluster_label, group in grouped_by_cluster:\n",
    "    unique_labels = group['Label'].unique()\n",
    "    cluster_purity[cluster_label] = len(unique_labels) == 1\n",
    "\n",
    "# Print the purity status of each cluster\n",
    "for cluster_label, is_pure in cluster_purity.items():\n",
    "    print(f\"Cluster {cluster_label} is {'pure' if is_pure else 'not pure'}\")"
   ]
  },
  {
   "cell_type": "markdown",
   "id": "08459fc7-9889-4681-b7d8-7308ecb85e6c",
   "metadata": {},
   "source": [
    "## 4.1  Is there benign traffic with similar characteristics to malicious one?\n",
    "\n",
    "This analysis can reveal patterns in the data, such as which clusters predominantly contain benign instances or specific types of DDoS attacks."
   ]
  },
  {
   "cell_type": "code",
   "execution_count": 19,
   "id": "48c87271-2fbf-40a8-b516-80be9b85b585",
   "metadata": {
    "trusted": false,
    "ExecuteTime": {
     "end_time": "2024-01-24T10:47:55.511237600Z",
     "start_time": "2024-01-24T10:47:55.493239200Z"
    }
   },
   "outputs": [
    {
     "name": "stdout",
     "output_type": "stream",
     "text": [
      "Cluster 0:\n",
      "DDoS list:\n",
      "-ddos_tftp: 5192\n",
      "-ddos_syn: 3167\n",
      "-ddos_ntp: 76\n",
      "-ddos_dns: 15\n",
      "---Malign Ddos total count: 8450\n",
      "---Benign Count: 52\n",
      "\n",
      "\n",
      "Cluster 1:\n",
      "DDoS list:\n",
      "-ddos_mssql: 5728\n",
      "-ddos_ssdp: 5573\n",
      "-ddos_ldap: 5421\n",
      "-ddos_dns: 585\n",
      "-ddos_netbios: 412\n",
      "-ddos_udp: 2\n",
      "---Malign Ddos total count: 17721\n",
      "---Benign Count: 1\n",
      "\n",
      "\n",
      "Cluster 2:\n",
      "DDoS list:\n",
      "-ddos_ntp: 607\n",
      "-ddos_dns: 81\n",
      "-ddos_ssdp: 2\n",
      "-ddos_tftp: 2\n",
      "-ddos_ldap: 1\n",
      "---Malign Ddos total count: 693\n",
      "---Benign Count: 1632\n",
      "\n",
      "\n",
      "Cluster 3:\n",
      "DDoS list:\n",
      "-ddos_udp_lag: 5986\n",
      "-ddos_snmp: 5984\n",
      "-ddos_udp: 5873\n",
      "-ddos_netbios: 4700\n",
      "-ddos_dns: 463\n",
      "-ddos_ssdp: 44\n",
      "-ddos_ntp: 14\n",
      "-ddos_mssql: 8\n",
      "-ddos_ldap: 4\n",
      "-ddos_tftp: 3\n",
      "---Malign Ddos total count: 23079\n",
      "---Benign Count: 248\n",
      "\n",
      "\n",
      "Cluster 4:\n",
      "DDoS list:\n",
      "-ddos_ntp: 3\n",
      "-ddos_dns: 1\n",
      "---Malign Ddos total count: 4\n",
      "---Benign Count: 359\n",
      "\n",
      "\n",
      "Cluster 5:\n",
      "DDoS list:\n",
      "---Malign Ddos total count: 0\n",
      "---Benign Count: 2142\n",
      "\n",
      "\n",
      "Cluster 6:\n",
      "DDoS list:\n",
      "-ddos_ldap: 1\n",
      "-ddos_mssql: 1\n",
      "-ddos_netbios: 1\n",
      "-ddos_ssdp: 1\n",
      "-ddos_udp: 1\n",
      "-ddos_tftp: 1\n",
      "---Malign Ddos total count: 6\n",
      "---Benign Count: 34\n",
      "\n",
      "\n",
      "Cluster 7:\n",
      "DDoS list:\n",
      "-ddos_dns: 3473\n",
      "---Malign Ddos total count: 3473\n",
      "---Benign Count: 3\n",
      "\n",
      "\n",
      "Cluster 8:\n",
      "DDoS list:\n",
      "-ddos_ntp: 276\n",
      "-ddos_dns: 37\n",
      "-ddos_mssql: 1\n",
      "---Malign Ddos total count: 314\n",
      "---Benign Count: 626\n",
      "\n",
      "\n",
      "Cluster 9:\n",
      "DDoS list:\n",
      "-ddos_netbios: 717\n",
      "-ddos_ldap: 500\n",
      "-ddos_ssdp: 349\n",
      "-ddos_mssql: 173\n",
      "-ddos_dns: 95\n",
      "---Malign Ddos total count: 1834\n",
      "---Benign Count: 1\n",
      "\n",
      "\n",
      "Cluster 10:\n",
      "DDoS list:\n",
      "-ddos_dns: 610\n",
      "---Malign Ddos total count: 610\n",
      "---Benign Count: 0\n",
      "\n",
      "\n",
      "Cluster 11:\n",
      "DDoS list:\n",
      "-ddos_ntp: 10\n",
      "-ddos_dns: 8\n",
      "-ddos_ldap: 1\n",
      "-ddos_ssdp: 1\n",
      "---Malign Ddos total count: 20\n",
      "---Benign Count: 501\n",
      "\n",
      "\n",
      "Cluster 12:\n",
      "DDoS list:\n",
      "---Malign Ddos total count: 0\n",
      "---Benign Count: 27\n",
      "\n",
      "\n",
      "Cluster 13:\n",
      "DDoS list:\n",
      "-ddos_syn: 2313\n",
      "-ddos_tftp: 63\n",
      "-ddos_dns: 1\n",
      "---Malign Ddos total count: 2377\n",
      "---Benign Count: 32\n",
      "\n"
     ]
    }
   ],
   "source": [
    "# Create a DataFrame combining cluster labels and actual data labels\n",
    "y_ = y.ravel()\n",
    "data = {'Cluster_Labels': cluster_labels, 'Real_Labels': y_}\n",
    "df_ = pd.DataFrame(data)\n",
    "\n",
    "# Function to count labels within each cluster\n",
    "def count_labels(cluster_group):\n",
    "    benign_count = cluster_group[cluster_group == 'benign'].count()\n",
    "    ddos_counts = cluster_group[cluster_group.str.startswith('ddos_')].value_counts()\n",
    "    return benign_count, ddos_counts\n",
    "\n",
    "# Apply the function to each cluster group\n",
    "cluster_info = df_.groupby('Cluster_Labels')['Real_Labels'].apply(count_labels)\n",
    "\n",
    "# Display the results\n",
    "for cluster, (benign_count, ddos_counts) in cluster_info.items():\n",
    "    print(f\"Cluster {cluster}:\")\n",
    "    print(\"DDoS list:\")\n",
    "\n",
    "    # Print each ddos_count with its label\n",
    "    tot_count = 0\n",
    "    for label, count in ddos_counts.items():\n",
    "        tot_count+=count\n",
    "        print(f\"-{label}: {count}\")\n",
    "    print(f\"---Malign Ddos total count: {tot_count}\")\n",
    "    print(f\"---Benign Count: {benign_count}\")\n",
    "    print(\"\\n\")\n"
   ]
  },
  {
   "cell_type": "markdown",
   "id": "692a14c25c98043f",
   "metadata": {},
   "source": [
    "## 4.2 What are the most important features in the obtained clusters?\n"
   ]
  },
  {
   "cell_type": "code",
   "execution_count": 20,
   "id": "84e0f6c074f686e3",
   "metadata": {
    "collapsed": false,
    "trusted": false,
    "ExecuteTime": {
     "end_time": "2024-01-24T10:47:55.511237600Z",
     "start_time": "2024-01-24T10:47:55.504248100Z"
    }
   },
   "outputs": [
    {
     "data": {
      "text/plain": "RandomForestClassifier(random_state=42)"
     },
     "execution_count": 20,
     "metadata": {},
     "output_type": "execute_result"
    }
   ],
   "source": [
    "# Train a classifier\n",
    "model = RandomForestClassifier(random_state=42)\n",
    "model.fit(ddos_data.drop(columns=['label']), cluster_labels)"
   ]
  },
  {
   "cell_type": "code",
   "execution_count": null,
   "outputs": [],
   "source": [
    "# Create a SHAP explainer and calculate SHAP values\n",
    "explainer = shap.TreeExplainer(model)\n",
    "shap_values = explainer.shap_values(ddos_data.drop(columns=['label']))\n",
    "\n",
    "# 21minutes 20 seconds (long execution time)"
   ],
   "metadata": {
    "collapsed": false,
    "trusted": false,
    "is_executing": true,
    "ExecuteTime": {
     "start_time": "2024-01-24T10:47:55.505244100Z"
    }
   },
   "id": "7192ceebcaa60f52"
  },
  {
   "cell_type": "code",
   "execution_count": null,
   "outputs": [],
   "source": [
    "shap.summary_plot(shap_values, ddos_data.drop(columns=['label']), plot_type=\"bar\")"
   ],
   "metadata": {
    "collapsed": false,
    "trusted": false,
    "is_executing": true
   },
   "id": "54c370a7dfb1dd69"
  },
  {
   "cell_type": "markdown",
   "source": [],
   "metadata": {
    "collapsed": false
   },
   "id": "91f26c0c1e91efc5"
  },
  {
   "cell_type": "code",
   "execution_count": null,
   "outputs": [],
   "source": [
    "# For each cluster\n",
    "for i in range(model.n_classes_):\n",
    "    print(f\"Cluster {i}\")\n",
    "    shap.summary_plot(shap_values[i], ddos_data.drop(columns=['label']))"
   ],
   "metadata": {
    "collapsed": false,
    "trusted": false,
    "is_executing": true
   },
   "id": "534c9b2dd8fe78d7"
  }
 ],
 "metadata": {
  "kernelspec": {
   "display_name": "Python 3 (ipykernel)",
   "language": "python",
   "name": "python3"
  },
  "language_info": {
   "codemirror_mode": {
    "name": "ipython",
    "version": 3
   },
   "file_extension": ".py",
   "mimetype": "text/x-python",
   "name": "python",
   "nbconvert_exporter": "python",
   "pygments_lexer": "ipython3",
   "version": "3.7.12"
  }
 },
 "nbformat": 4,
 "nbformat_minor": 5
}
