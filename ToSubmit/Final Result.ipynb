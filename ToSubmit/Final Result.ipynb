{
 "cells": [
  {
   "cell_type": "code",
   "execution_count": 1,
   "id": "26b71b0b-ece2-4d4d-825e-bda9bcb5081a",
   "metadata": {},
   "outputs": [
    {
     "ename": "ModuleNotFoundError",
     "evalue": "No module named 'pandas'",
     "output_type": "error",
     "traceback": [
      "\u001b[0;31m---------------------------------------------------------------------------\u001b[0m",
      "\u001b[0;31mModuleNotFoundError\u001b[0m                       Traceback (most recent call last)",
      "Cell \u001b[0;32mIn[1], line 1\u001b[0m\n\u001b[0;32m----> 1\u001b[0m \u001b[38;5;28;01mimport\u001b[39;00m \u001b[38;5;21;01mpandas\u001b[39;00m \u001b[38;5;28;01mas\u001b[39;00m \u001b[38;5;21;01mpd\u001b[39;00m\n\u001b[1;32m      2\u001b[0m \u001b[38;5;28;01mimport\u001b[39;00m \u001b[38;5;21;01mnumpy\u001b[39;00m \u001b[38;5;28;01mas\u001b[39;00m \u001b[38;5;21;01mnp\u001b[39;00m\n\u001b[1;32m      3\u001b[0m \u001b[38;5;28;01mfrom\u001b[39;00m \u001b[38;5;21;01msklearn\u001b[39;00m\u001b[38;5;21;01m.\u001b[39;00m\u001b[38;5;21;01mmodel_selection\u001b[39;00m \u001b[38;5;28;01mimport\u001b[39;00m train_test_split\n",
      "\u001b[0;31mModuleNotFoundError\u001b[0m: No module named 'pandas'"
     ]
    }
   ],
   "source": [
    "!pip install pandas numpy scikit-learn\n",
    "import pandas as pd\n",
    "import numpy as np\n",
    "from sklearn.model_selection import train_test_split\n",
    "from sklearn.preprocessing import StandardScaler\n",
    "# read data\n",
    "ddos_data = pd.read_csv(\"ddos_dataset.csv\", sep=\",\", dtype={'SimillarHTTP': str})\n",
    "ddos_data.rename(columns=lambda x: x.strip(), inplace=True)\n",
    "columns = ddos_data.columns\n",
    "\n",
    "# set Flow ID\n",
    "ddos_data[\"Flow ID\"] = ( ddos_data['Source IP'].astype(str) + ' - ' +\n",
    "                         ddos_data['Source Port'].astype(str) + ' - ' +\n",
    "                         ddos_data['Destination IP'].astype(str) + ' - ' + \n",
    "                         ddos_data['Destination Port'].astype(str) + ' - ' + \n",
    "                         ddos_data['Timestamp'].astype(str) ) \n",
    "ddos_data = ddos_data.set_index(\"Flow ID\")\n",
    "\n",
    "#  categorical SimillarHTTP\n",
    "ddos_data['SimillarHTTP'] = ddos_data['SimillarHTTP'].astype(str).str.strip()\n",
    "ddos_data['SimillarHTTP'] = pd.Categorical(ddos_data['SimillarHTTP']).codes\n",
    "\n",
    "# delete rubbish\n",
    "ddos_data.drop(\"Unnamed: 0\", axis=1, inplace=True)\n",
    "\n",
    "# delete varancie null\n",
    "variance = ddos_data.var(numeric_only=True)\n",
    "zero_variance = variance[variance == 0].index\n",
    "ddos_data.drop(zero_variance, axis=1, inplace=True)\n",
    "\n",
    "# add temporal features\n",
    "ddos_data['Timestamp'] = pd.to_datetime(ddos_data['Timestamp'])\n",
    "ddos_data['hours'] = ddos_data['Timestamp'].dt.hour\n",
    "ddos_data['minutes'] = ddos_data['Timestamp'].dt.minute\n",
    "ddos_data['seconds'] = ddos_data['Timestamp'].dt.second\n",
    "ddos_data['milliseconds'] = ddos_data['Timestamp'].dt.microsecond // 1000\n",
    "\n",
    "# one-hot encode Protocol\n",
    "mask_udp = ddos_data['Protocol'] == 0\n",
    "mask_tcp = ddos_data['Protocol'] == 6\n",
    "mask_hopopt = ddos_data['Protocol'] == 17\n",
    "ddos_data['Protocol 0'] = mask_udp.astype(int)\n",
    "ddos_data['Protocol 6'] = mask_tcp.astype(int)\n",
    "ddos_data['Protocol 17'] = mask_hopopt.astype(int)\n",
    "\n",
    "# delete features \n",
    "ddos_data.drop(\n",
    "    columns=[\"Destination IP\", \"Source IP\", \"Source Port\", \"Destination Port\", \"Timestamp\", \"Protocol\", \"SimillarHTTP\" ], \n",
    "    axis=1, \n",
    "    inplace=True)\n",
    "\n",
    "# features selected in the first section\n",
    "columns_to_remove = ['Active Max', 'Active Min', 'Average Packet Size', 'Avg Bwd Segment Size', 'Avg Fwd Segment Size', 'Bwd IAT Mean', 'Bwd IAT Std', 'Bwd Packet Length Mean', 'Bwd Packet Length Std', 'Flow Duration', 'Flow IAT Max', 'Flow IAT Min', 'Flow IAT Std', 'Flow Packets/s', 'Fwd Header Length', 'Fwd IAT Max', 'Fwd IAT Mean', 'Fwd IAT Std', 'Fwd IAT Total', 'Fwd Packet Length Mean', 'Fwd Packet Length Min', 'Idle Max', 'Idle Mean', 'Min Packet Length', 'Packet Length Mean', 'Packet Length Std', 'Packet Length Variance', 'Protocol 17', 'Protocol 6', 'RST Flag Count', 'Subflow Bwd Bytes', 'Subflow Bwd Packets', 'Subflow Fwd Bytes', 'Subflow Fwd Packets', 'Total Backward Packets', 'Total Length of Bwd Packets', 'Total Length of Fwd Packets']\n",
    "ddos_data = ddos_data.drop(columns=columns_to_remove)\n",
    "\n",
    "# stratify the dataset \n",
    "ddos_data_temp = ddos_data.copy()\n",
    "ddos_data_temp['label'] = pd.Categorical(ddos_data_temp['label']).codes\n",
    "x = ddos_data_temp.drop(columns=['label'])\n",
    "y = ddos_data_temp[['label']]\n",
    "x_train, x_test, y_train, y_test = train_test_split(x, y, stratify=y, train_size=0.7, random_state=15)\n",
    "y_train, y_test = np.ravel(y_train), np.ravel(y_test)\n",
    "scaler = StandardScaler()\n",
    "scaler.fit(x_train)\n",
    "x_train_s, x_test_s = scaler.transform(x_train), scaler.transform(x_test) # array\n",
    "ddos_data_x_train_s = pd.DataFrame(x_train_s, columns=x_train.columns) # dataframe\n",
    "ddos_data_x_test_s = pd.DataFrame(x_test_s, columns=x_test.columns)"
   ]
  },
  {
   "cell_type": "code",
   "execution_count": null,
   "id": "13f002be-9dc8-4ab8-9f2b-e54daff72699",
   "metadata": {},
   "outputs": [],
   "source": [
    "ddos_data_x_train_s"
   ]
  },
  {
   "cell_type": "code",
   "execution_count": null,
   "id": "08bcd2b2-8ffe-4d24-994b-7e9f4cf43d96",
   "metadata": {},
   "outputs": [],
   "source": []
  }
 ],
 "metadata": {
  "kernelspec": {
   "display_name": "Python 3 (ipykernel)",
   "language": "python",
   "name": "python3"
  },
  "language_info": {
   "codemirror_mode": {
    "name": "ipython",
    "version": 3
   },
   "file_extension": ".py",
   "mimetype": "text/x-python",
   "name": "python",
   "nbconvert_exporter": "python",
   "pygments_lexer": "ipython3",
   "version": "3.10.12"
  }
 },
 "nbformat": 4,
 "nbformat_minor": 5
}
