{
  "cells": [
    {
      "cell_type": "markdown",
      "id": "df1ced7d-4058-4558-9cb1-70f1b9b427ca",
      "metadata": {
        "id": "df1ced7d-4058-4558-9cb1-70f1b9b427ca"
      },
      "source": [
        "# Sezione 1: Esplorazione e Pre-elaborazione dei Dati\n",
        "\n",
        "<span style=\"color:blue\">**Caratterizzazione dei Dati e Ingegnerizzazione delle Caratteristiche:**</span>\n",
        "In questa sezione, esploreremo il dataset per apprendere il comportamento delle caratteristiche a diversi\n",
        "livelli, come flussi, indirizzi IP, porte, ecc. L'obiettivo è generare le caratteristiche che ci permetteranno\n",
        "di portare a termine con successo gli altri compiti del progetto.\n",
        "\n",
        "<span style=\"color:green\">**Compito 1: Presentazione del Dataset:**</span>\n",
        "Il nostro primo compito è presentare il dataset attraverso varie tecniche di visualizzazione dei dati\n",
        "e analisi statistiche. Questo includerà:\n",
        "- <span style=\"color:purple\">Indagine del dataset fornito.</span>\n",
        "- <span style=\"color:darkorange\">Produzione di diverse visualizzazioni e analisi statistiche sia a livello di traffico generico\n",
        "(ad esempio, numero di flussi) che a livello di Ground Truth (GT) (ad esempio, distribuzione delle caratteristiche,\n",
        "caratterizzazione della classe GT, ECDF di porte, flussi, ecc.).</span>\n",
        "- <span style=\"color:brown\">Generazione di caratteristiche aggiuntive, come la quantificazione del traffico relativo a ciascun flusso,\n",
        "sulla base delle analisi precedenti (ad esempio, media, minimo, massimo, quantili, ecc.).</span>\n",
        "\n",
        "<span style=\"color:red\">**Analisi di Correlazione e Visualizzazione PCA:**</span>\n",
        "Eseguiremo analisi di correlazione e visualizzazioni tramite PCA (Principal Component Analysis). Se necessario,\n",
        "potremmo considerare la riduzione della dimensionalità per generare le caratteristiche utilizzate nei compiti successivi.\n",
        "\n",
        "<span style=\"color:darkgreen\">**Valutazione della Standardizzazione dei Dati:**</span>\n",
        "Valuteremo se è necessario scalare o standardizzare i dati per migliorare le analisi.\n",
        "\n",
        "<span style=\"color:navy\">**Caratterizzazione delle Nuove Caratteristiche Finali:**</span>\n",
        "Caratterizzeremo le nuove caratteristiche finali producendo grafici che mostrano le distribuzioni delle caratteristiche\n",
        "(EPDF o ECDF) e analizzando le correlazioni.\n"
      ]
    },
    {
      "cell_type": "code",
      "execution_count": 5,
      "id": "6a50b949-c050-4ba9-81d6-a68b4d210e66",
      "metadata": {
        "id": "6a50b949-c050-4ba9-81d6-a68b4d210e66",
        "outputId": "39a9f879-fa42-465c-9058-e56c7a7022b0",
        "colab": {
          "base_uri": "https://localhost:8080/"
        }
      },
      "outputs": [
        {
          "output_type": "stream",
          "name": "stdout",
          "text": [
            "3.10.12 (main, Nov 20 2023, 15:14:05) [GCC 11.4.0]\n"
          ]
        }
      ],
      "source": [
        "import sys\n",
        "print(sys.version)"
      ]
    }
  ],
  "metadata": {
    "kernelspec": {
      "display_name": "Python 3 (ipykernel)",
      "language": "python",
      "name": "python3"
    },
    "language_info": {
      "codemirror_mode": {
        "name": "ipython",
        "version": 3
      },
      "file_extension": ".py",
      "mimetype": "text/x-python",
      "name": "python",
      "nbconvert_exporter": "python",
      "pygments_lexer": "ipython3",
      "version": "3.12.0"
    },
    "colab": {
      "provenance": []
    }
  },
  "nbformat": 4,
  "nbformat_minor": 5
}